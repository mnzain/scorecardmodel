{
  "nbformat": 4,
  "nbformat_minor": 0,
  "metadata": {
    "colab": {
      "provenance": []
    },
    "kernelspec": {
      "name": "python3",
      "display_name": "Python 3"
    },
    "language_info": {
      "name": "python"
    }
  },
  "cells": [
    {
      "cell_type": "markdown",
      "source": [
        "# Problem Reserach\n",
        "\n",
        "1. Mengidentifikasi karakteristik nasabah yang potensial akan mengalami kesulitan dalam mengembalikan pinjaman.\n",
        "2. Memprediksi kemampuan pembayaran klien."
      ],
      "metadata": {
        "id": "KpSUm4W8sq5d"
      }
    },
    {
      "cell_type": "code",
      "execution_count": null,
      "metadata": {
        "id": "6-WWr7ixrjlF"
      },
      "outputs": [],
      "source": [
        "# import libraries\n",
        "import pandas as pd\n",
        "import numpy as np\n",
        "import seaborn as sns\n",
        "import matplotlib.pyplot as plt\n",
        "\n",
        "from sklearn.preprocessing import LabelEncoder\n",
        "from sklearn.feature_selection import SelectKBest #feature selection\n",
        "from sklearn.feature_selection import chi2\n",
        "from sklearn.utils import resample #re-sampling\n",
        "from sklearn.model_selection import train_test_split #data splitting\n",
        "from sklearn.preprocessing import StandardScaler #normalize features\n",
        "\n",
        "from sklearn.linear_model import LogisticRegression #logistic regression\n",
        "from sklearn.naive_bayes import GaussianNB #gaussian naive bayes\n",
        "from sklearn import tree\n",
        "from sklearn.tree import DecisionTreeClassifier #decision tree\n",
        "from sklearn.ensemble import RandomForestClassifier #random forest\n",
        "from sklearn.metrics import confusion_matrix, classification_report \n",
        "from sklearn.metrics import roc_auc_score #roc score"
      ]
    },
    {
      "cell_type": "markdown",
      "source": [
        "# Import dataset\n",
        "application train"
      ],
      "metadata": {
        "id": "CVfsIntQtGoJ"
      }
    },
    {
      "cell_type": "code",
      "source": [
        "from google.colab import drive\n",
        "drive.mount(\"/content/gdrive\")"
      ],
      "metadata": {
        "colab": {
          "base_uri": "https://localhost:8080/"
        },
        "id": "NXAyb5AWtZV7",
        "outputId": "6a1f975b-7a13-451a-b49e-7e10e2462642"
      },
      "execution_count": null,
      "outputs": [
        {
          "output_type": "stream",
          "name": "stdout",
          "text": [
            "Mounted at /content/gdrive\n"
          ]
        }
      ]
    },
    {
      "cell_type": "code",
      "source": [
        "application_train = pd.read_csv(\"/content/gdrive/MyDrive/Data Science/Rakamin/VIX - Home Credit/home-credit-default-risk/application_train.csv\", sep=',')\n",
        "print('Terdapat %d baris dan %d kolom.' % application_train.shape)\n",
        "application_train.head()"
      ],
      "metadata": {
        "colab": {
          "base_uri": "https://localhost:8080/",
          "height": 317
        },
        "id": "B0oXNdzLtQ39",
        "outputId": "b6493bda-b4a6-4d5b-b834-140caa2f8869"
      },
      "execution_count": null,
      "outputs": [
        {
          "output_type": "stream",
          "name": "stdout",
          "text": [
            "Terdapat 307511 baris dan 122 kolom.\n"
          ]
        },
        {
          "output_type": "execute_result",
          "data": {
            "text/plain": [
              "   SK_ID_CURR  TARGET NAME_CONTRACT_TYPE CODE_GENDER FLAG_OWN_CAR  \\\n",
              "0      100002       1         Cash loans           M            N   \n",
              "1      100003       0         Cash loans           F            N   \n",
              "2      100004       0    Revolving loans           M            Y   \n",
              "3      100006       0         Cash loans           F            N   \n",
              "4      100007       0         Cash loans           M            N   \n",
              "\n",
              "  FLAG_OWN_REALTY  CNT_CHILDREN  AMT_INCOME_TOTAL  AMT_CREDIT  AMT_ANNUITY  \\\n",
              "0               Y             0          202500.0    406597.5      24700.5   \n",
              "1               N             0          270000.0   1293502.5      35698.5   \n",
              "2               Y             0           67500.0    135000.0       6750.0   \n",
              "3               Y             0          135000.0    312682.5      29686.5   \n",
              "4               Y             0          121500.0    513000.0      21865.5   \n",
              "\n",
              "   ...  FLAG_DOCUMENT_18 FLAG_DOCUMENT_19 FLAG_DOCUMENT_20 FLAG_DOCUMENT_21  \\\n",
              "0  ...                 0                0                0                0   \n",
              "1  ...                 0                0                0                0   \n",
              "2  ...                 0                0                0                0   \n",
              "3  ...                 0                0                0                0   \n",
              "4  ...                 0                0                0                0   \n",
              "\n",
              "  AMT_REQ_CREDIT_BUREAU_HOUR AMT_REQ_CREDIT_BUREAU_DAY  \\\n",
              "0                        0.0                       0.0   \n",
              "1                        0.0                       0.0   \n",
              "2                        0.0                       0.0   \n",
              "3                        NaN                       NaN   \n",
              "4                        0.0                       0.0   \n",
              "\n",
              "   AMT_REQ_CREDIT_BUREAU_WEEK  AMT_REQ_CREDIT_BUREAU_MON  \\\n",
              "0                         0.0                        0.0   \n",
              "1                         0.0                        0.0   \n",
              "2                         0.0                        0.0   \n",
              "3                         NaN                        NaN   \n",
              "4                         0.0                        0.0   \n",
              "\n",
              "   AMT_REQ_CREDIT_BUREAU_QRT  AMT_REQ_CREDIT_BUREAU_YEAR  \n",
              "0                        0.0                         1.0  \n",
              "1                        0.0                         0.0  \n",
              "2                        0.0                         0.0  \n",
              "3                        NaN                         NaN  \n",
              "4                        0.0                         0.0  \n",
              "\n",
              "[5 rows x 122 columns]"
            ],
            "text/html": [
              "\n",
              "  <div id=\"df-1ff10a9f-d7ec-4477-8cef-133bda676b67\">\n",
              "    <div class=\"colab-df-container\">\n",
              "      <div>\n",
              "<style scoped>\n",
              "    .dataframe tbody tr th:only-of-type {\n",
              "        vertical-align: middle;\n",
              "    }\n",
              "\n",
              "    .dataframe tbody tr th {\n",
              "        vertical-align: top;\n",
              "    }\n",
              "\n",
              "    .dataframe thead th {\n",
              "        text-align: right;\n",
              "    }\n",
              "</style>\n",
              "<table border=\"1\" class=\"dataframe\">\n",
              "  <thead>\n",
              "    <tr style=\"text-align: right;\">\n",
              "      <th></th>\n",
              "      <th>SK_ID_CURR</th>\n",
              "      <th>TARGET</th>\n",
              "      <th>NAME_CONTRACT_TYPE</th>\n",
              "      <th>CODE_GENDER</th>\n",
              "      <th>FLAG_OWN_CAR</th>\n",
              "      <th>FLAG_OWN_REALTY</th>\n",
              "      <th>CNT_CHILDREN</th>\n",
              "      <th>AMT_INCOME_TOTAL</th>\n",
              "      <th>AMT_CREDIT</th>\n",
              "      <th>AMT_ANNUITY</th>\n",
              "      <th>...</th>\n",
              "      <th>FLAG_DOCUMENT_18</th>\n",
              "      <th>FLAG_DOCUMENT_19</th>\n",
              "      <th>FLAG_DOCUMENT_20</th>\n",
              "      <th>FLAG_DOCUMENT_21</th>\n",
              "      <th>AMT_REQ_CREDIT_BUREAU_HOUR</th>\n",
              "      <th>AMT_REQ_CREDIT_BUREAU_DAY</th>\n",
              "      <th>AMT_REQ_CREDIT_BUREAU_WEEK</th>\n",
              "      <th>AMT_REQ_CREDIT_BUREAU_MON</th>\n",
              "      <th>AMT_REQ_CREDIT_BUREAU_QRT</th>\n",
              "      <th>AMT_REQ_CREDIT_BUREAU_YEAR</th>\n",
              "    </tr>\n",
              "  </thead>\n",
              "  <tbody>\n",
              "    <tr>\n",
              "      <th>0</th>\n",
              "      <td>100002</td>\n",
              "      <td>1</td>\n",
              "      <td>Cash loans</td>\n",
              "      <td>M</td>\n",
              "      <td>N</td>\n",
              "      <td>Y</td>\n",
              "      <td>0</td>\n",
              "      <td>202500.0</td>\n",
              "      <td>406597.5</td>\n",
              "      <td>24700.5</td>\n",
              "      <td>...</td>\n",
              "      <td>0</td>\n",
              "      <td>0</td>\n",
              "      <td>0</td>\n",
              "      <td>0</td>\n",
              "      <td>0.0</td>\n",
              "      <td>0.0</td>\n",
              "      <td>0.0</td>\n",
              "      <td>0.0</td>\n",
              "      <td>0.0</td>\n",
              "      <td>1.0</td>\n",
              "    </tr>\n",
              "    <tr>\n",
              "      <th>1</th>\n",
              "      <td>100003</td>\n",
              "      <td>0</td>\n",
              "      <td>Cash loans</td>\n",
              "      <td>F</td>\n",
              "      <td>N</td>\n",
              "      <td>N</td>\n",
              "      <td>0</td>\n",
              "      <td>270000.0</td>\n",
              "      <td>1293502.5</td>\n",
              "      <td>35698.5</td>\n",
              "      <td>...</td>\n",
              "      <td>0</td>\n",
              "      <td>0</td>\n",
              "      <td>0</td>\n",
              "      <td>0</td>\n",
              "      <td>0.0</td>\n",
              "      <td>0.0</td>\n",
              "      <td>0.0</td>\n",
              "      <td>0.0</td>\n",
              "      <td>0.0</td>\n",
              "      <td>0.0</td>\n",
              "    </tr>\n",
              "    <tr>\n",
              "      <th>2</th>\n",
              "      <td>100004</td>\n",
              "      <td>0</td>\n",
              "      <td>Revolving loans</td>\n",
              "      <td>M</td>\n",
              "      <td>Y</td>\n",
              "      <td>Y</td>\n",
              "      <td>0</td>\n",
              "      <td>67500.0</td>\n",
              "      <td>135000.0</td>\n",
              "      <td>6750.0</td>\n",
              "      <td>...</td>\n",
              "      <td>0</td>\n",
              "      <td>0</td>\n",
              "      <td>0</td>\n",
              "      <td>0</td>\n",
              "      <td>0.0</td>\n",
              "      <td>0.0</td>\n",
              "      <td>0.0</td>\n",
              "      <td>0.0</td>\n",
              "      <td>0.0</td>\n",
              "      <td>0.0</td>\n",
              "    </tr>\n",
              "    <tr>\n",
              "      <th>3</th>\n",
              "      <td>100006</td>\n",
              "      <td>0</td>\n",
              "      <td>Cash loans</td>\n",
              "      <td>F</td>\n",
              "      <td>N</td>\n",
              "      <td>Y</td>\n",
              "      <td>0</td>\n",
              "      <td>135000.0</td>\n",
              "      <td>312682.5</td>\n",
              "      <td>29686.5</td>\n",
              "      <td>...</td>\n",
              "      <td>0</td>\n",
              "      <td>0</td>\n",
              "      <td>0</td>\n",
              "      <td>0</td>\n",
              "      <td>NaN</td>\n",
              "      <td>NaN</td>\n",
              "      <td>NaN</td>\n",
              "      <td>NaN</td>\n",
              "      <td>NaN</td>\n",
              "      <td>NaN</td>\n",
              "    </tr>\n",
              "    <tr>\n",
              "      <th>4</th>\n",
              "      <td>100007</td>\n",
              "      <td>0</td>\n",
              "      <td>Cash loans</td>\n",
              "      <td>M</td>\n",
              "      <td>N</td>\n",
              "      <td>Y</td>\n",
              "      <td>0</td>\n",
              "      <td>121500.0</td>\n",
              "      <td>513000.0</td>\n",
              "      <td>21865.5</td>\n",
              "      <td>...</td>\n",
              "      <td>0</td>\n",
              "      <td>0</td>\n",
              "      <td>0</td>\n",
              "      <td>0</td>\n",
              "      <td>0.0</td>\n",
              "      <td>0.0</td>\n",
              "      <td>0.0</td>\n",
              "      <td>0.0</td>\n",
              "      <td>0.0</td>\n",
              "      <td>0.0</td>\n",
              "    </tr>\n",
              "  </tbody>\n",
              "</table>\n",
              "<p>5 rows × 122 columns</p>\n",
              "</div>\n",
              "      <button class=\"colab-df-convert\" onclick=\"convertToInteractive('df-1ff10a9f-d7ec-4477-8cef-133bda676b67')\"\n",
              "              title=\"Convert this dataframe to an interactive table.\"\n",
              "              style=\"display:none;\">\n",
              "        \n",
              "  <svg xmlns=\"http://www.w3.org/2000/svg\" height=\"24px\"viewBox=\"0 0 24 24\"\n",
              "       width=\"24px\">\n",
              "    <path d=\"M0 0h24v24H0V0z\" fill=\"none\"/>\n",
              "    <path d=\"M18.56 5.44l.94 2.06.94-2.06 2.06-.94-2.06-.94-.94-2.06-.94 2.06-2.06.94zm-11 1L8.5 8.5l.94-2.06 2.06-.94-2.06-.94L8.5 2.5l-.94 2.06-2.06.94zm10 10l.94 2.06.94-2.06 2.06-.94-2.06-.94-.94-2.06-.94 2.06-2.06.94z\"/><path d=\"M17.41 7.96l-1.37-1.37c-.4-.4-.92-.59-1.43-.59-.52 0-1.04.2-1.43.59L10.3 9.45l-7.72 7.72c-.78.78-.78 2.05 0 2.83L4 21.41c.39.39.9.59 1.41.59.51 0 1.02-.2 1.41-.59l7.78-7.78 2.81-2.81c.8-.78.8-2.07 0-2.86zM5.41 20L4 18.59l7.72-7.72 1.47 1.35L5.41 20z\"/>\n",
              "  </svg>\n",
              "      </button>\n",
              "      \n",
              "  <style>\n",
              "    .colab-df-container {\n",
              "      display:flex;\n",
              "      flex-wrap:wrap;\n",
              "      gap: 12px;\n",
              "    }\n",
              "\n",
              "    .colab-df-convert {\n",
              "      background-color: #E8F0FE;\n",
              "      border: none;\n",
              "      border-radius: 50%;\n",
              "      cursor: pointer;\n",
              "      display: none;\n",
              "      fill: #1967D2;\n",
              "      height: 32px;\n",
              "      padding: 0 0 0 0;\n",
              "      width: 32px;\n",
              "    }\n",
              "\n",
              "    .colab-df-convert:hover {\n",
              "      background-color: #E2EBFA;\n",
              "      box-shadow: 0px 1px 2px rgba(60, 64, 67, 0.3), 0px 1px 3px 1px rgba(60, 64, 67, 0.15);\n",
              "      fill: #174EA6;\n",
              "    }\n",
              "\n",
              "    [theme=dark] .colab-df-convert {\n",
              "      background-color: #3B4455;\n",
              "      fill: #D2E3FC;\n",
              "    }\n",
              "\n",
              "    [theme=dark] .colab-df-convert:hover {\n",
              "      background-color: #434B5C;\n",
              "      box-shadow: 0px 1px 3px 1px rgba(0, 0, 0, 0.15);\n",
              "      filter: drop-shadow(0px 1px 2px rgba(0, 0, 0, 0.3));\n",
              "      fill: #FFFFFF;\n",
              "    }\n",
              "  </style>\n",
              "\n",
              "      <script>\n",
              "        const buttonEl =\n",
              "          document.querySelector('#df-1ff10a9f-d7ec-4477-8cef-133bda676b67 button.colab-df-convert');\n",
              "        buttonEl.style.display =\n",
              "          google.colab.kernel.accessAllowed ? 'block' : 'none';\n",
              "\n",
              "        async function convertToInteractive(key) {\n",
              "          const element = document.querySelector('#df-1ff10a9f-d7ec-4477-8cef-133bda676b67');\n",
              "          const dataTable =\n",
              "            await google.colab.kernel.invokeFunction('convertToInteractive',\n",
              "                                                     [key], {});\n",
              "          if (!dataTable) return;\n",
              "\n",
              "          const docLinkHtml = 'Like what you see? Visit the ' +\n",
              "            '<a target=\"_blank\" href=https://colab.research.google.com/notebooks/data_table.ipynb>data table notebook</a>'\n",
              "            + ' to learn more about interactive tables.';\n",
              "          element.innerHTML = '';\n",
              "          dataTable['output_type'] = 'display_data';\n",
              "          await google.colab.output.renderOutput(dataTable, element);\n",
              "          const docLink = document.createElement('div');\n",
              "          docLink.innerHTML = docLinkHtml;\n",
              "          element.appendChild(docLink);\n",
              "        }\n",
              "      </script>\n",
              "    </div>\n",
              "  </div>\n",
              "  "
            ]
          },
          "metadata": {},
          "execution_count": 5
        }
      ]
    },
    {
      "cell_type": "markdown",
      "source": [
        "# EDA\n",
        "Check tipe data"
      ],
      "metadata": {
        "id": "pwqEG1_XuZML"
      }
    },
    {
      "cell_type": "code",
      "source": [
        "print('Tipe data: \\n')\n",
        "application_train.info(verbose=True)"
      ],
      "metadata": {
        "colab": {
          "base_uri": "https://localhost:8080/"
        },
        "id": "Pfh0-x3-ujs7",
        "outputId": "8f2886da-c632-4d9e-e14a-c6e562cdcf39"
      },
      "execution_count": null,
      "outputs": [
        {
          "output_type": "stream",
          "name": "stdout",
          "text": [
            "Tipe data: \n",
            "\n",
            "<class 'pandas.core.frame.DataFrame'>\n",
            "RangeIndex: 307511 entries, 0 to 307510\n",
            "Data columns (total 122 columns):\n",
            " #    Column                        Dtype  \n",
            "---   ------                        -----  \n",
            " 0    SK_ID_CURR                    int64  \n",
            " 1    TARGET                        int64  \n",
            " 2    NAME_CONTRACT_TYPE            object \n",
            " 3    CODE_GENDER                   object \n",
            " 4    FLAG_OWN_CAR                  object \n",
            " 5    FLAG_OWN_REALTY               object \n",
            " 6    CNT_CHILDREN                  int64  \n",
            " 7    AMT_INCOME_TOTAL              float64\n",
            " 8    AMT_CREDIT                    float64\n",
            " 9    AMT_ANNUITY                   float64\n",
            " 10   AMT_GOODS_PRICE               float64\n",
            " 11   NAME_TYPE_SUITE               object \n",
            " 12   NAME_INCOME_TYPE              object \n",
            " 13   NAME_EDUCATION_TYPE           object \n",
            " 14   NAME_FAMILY_STATUS            object \n",
            " 15   NAME_HOUSING_TYPE             object \n",
            " 16   REGION_POPULATION_RELATIVE    float64\n",
            " 17   DAYS_BIRTH                    int64  \n",
            " 18   DAYS_EMPLOYED                 int64  \n",
            " 19   DAYS_REGISTRATION             float64\n",
            " 20   DAYS_ID_PUBLISH               int64  \n",
            " 21   OWN_CAR_AGE                   float64\n",
            " 22   FLAG_MOBIL                    int64  \n",
            " 23   FLAG_EMP_PHONE                int64  \n",
            " 24   FLAG_WORK_PHONE               int64  \n",
            " 25   FLAG_CONT_MOBILE              int64  \n",
            " 26   FLAG_PHONE                    int64  \n",
            " 27   FLAG_EMAIL                    int64  \n",
            " 28   OCCUPATION_TYPE               object \n",
            " 29   CNT_FAM_MEMBERS               float64\n",
            " 30   REGION_RATING_CLIENT          int64  \n",
            " 31   REGION_RATING_CLIENT_W_CITY   int64  \n",
            " 32   WEEKDAY_APPR_PROCESS_START    object \n",
            " 33   HOUR_APPR_PROCESS_START       int64  \n",
            " 34   REG_REGION_NOT_LIVE_REGION    int64  \n",
            " 35   REG_REGION_NOT_WORK_REGION    int64  \n",
            " 36   LIVE_REGION_NOT_WORK_REGION   int64  \n",
            " 37   REG_CITY_NOT_LIVE_CITY        int64  \n",
            " 38   REG_CITY_NOT_WORK_CITY        int64  \n",
            " 39   LIVE_CITY_NOT_WORK_CITY       int64  \n",
            " 40   ORGANIZATION_TYPE             object \n",
            " 41   EXT_SOURCE_1                  float64\n",
            " 42   EXT_SOURCE_2                  float64\n",
            " 43   EXT_SOURCE_3                  float64\n",
            " 44   APARTMENTS_AVG                float64\n",
            " 45   BASEMENTAREA_AVG              float64\n",
            " 46   YEARS_BEGINEXPLUATATION_AVG   float64\n",
            " 47   YEARS_BUILD_AVG               float64\n",
            " 48   COMMONAREA_AVG                float64\n",
            " 49   ELEVATORS_AVG                 float64\n",
            " 50   ENTRANCES_AVG                 float64\n",
            " 51   FLOORSMAX_AVG                 float64\n",
            " 52   FLOORSMIN_AVG                 float64\n",
            " 53   LANDAREA_AVG                  float64\n",
            " 54   LIVINGAPARTMENTS_AVG          float64\n",
            " 55   LIVINGAREA_AVG                float64\n",
            " 56   NONLIVINGAPARTMENTS_AVG       float64\n",
            " 57   NONLIVINGAREA_AVG             float64\n",
            " 58   APARTMENTS_MODE               float64\n",
            " 59   BASEMENTAREA_MODE             float64\n",
            " 60   YEARS_BEGINEXPLUATATION_MODE  float64\n",
            " 61   YEARS_BUILD_MODE              float64\n",
            " 62   COMMONAREA_MODE               float64\n",
            " 63   ELEVATORS_MODE                float64\n",
            " 64   ENTRANCES_MODE                float64\n",
            " 65   FLOORSMAX_MODE                float64\n",
            " 66   FLOORSMIN_MODE                float64\n",
            " 67   LANDAREA_MODE                 float64\n",
            " 68   LIVINGAPARTMENTS_MODE         float64\n",
            " 69   LIVINGAREA_MODE               float64\n",
            " 70   NONLIVINGAPARTMENTS_MODE      float64\n",
            " 71   NONLIVINGAREA_MODE            float64\n",
            " 72   APARTMENTS_MEDI               float64\n",
            " 73   BASEMENTAREA_MEDI             float64\n",
            " 74   YEARS_BEGINEXPLUATATION_MEDI  float64\n",
            " 75   YEARS_BUILD_MEDI              float64\n",
            " 76   COMMONAREA_MEDI               float64\n",
            " 77   ELEVATORS_MEDI                float64\n",
            " 78   ENTRANCES_MEDI                float64\n",
            " 79   FLOORSMAX_MEDI                float64\n",
            " 80   FLOORSMIN_MEDI                float64\n",
            " 81   LANDAREA_MEDI                 float64\n",
            " 82   LIVINGAPARTMENTS_MEDI         float64\n",
            " 83   LIVINGAREA_MEDI               float64\n",
            " 84   NONLIVINGAPARTMENTS_MEDI      float64\n",
            " 85   NONLIVINGAREA_MEDI            float64\n",
            " 86   FONDKAPREMONT_MODE            object \n",
            " 87   HOUSETYPE_MODE                object \n",
            " 88   TOTALAREA_MODE                float64\n",
            " 89   WALLSMATERIAL_MODE            object \n",
            " 90   EMERGENCYSTATE_MODE           object \n",
            " 91   OBS_30_CNT_SOCIAL_CIRCLE      float64\n",
            " 92   DEF_30_CNT_SOCIAL_CIRCLE      float64\n",
            " 93   OBS_60_CNT_SOCIAL_CIRCLE      float64\n",
            " 94   DEF_60_CNT_SOCIAL_CIRCLE      float64\n",
            " 95   DAYS_LAST_PHONE_CHANGE        float64\n",
            " 96   FLAG_DOCUMENT_2               int64  \n",
            " 97   FLAG_DOCUMENT_3               int64  \n",
            " 98   FLAG_DOCUMENT_4               int64  \n",
            " 99   FLAG_DOCUMENT_5               int64  \n",
            " 100  FLAG_DOCUMENT_6               int64  \n",
            " 101  FLAG_DOCUMENT_7               int64  \n",
            " 102  FLAG_DOCUMENT_8               int64  \n",
            " 103  FLAG_DOCUMENT_9               int64  \n",
            " 104  FLAG_DOCUMENT_10              int64  \n",
            " 105  FLAG_DOCUMENT_11              int64  \n",
            " 106  FLAG_DOCUMENT_12              int64  \n",
            " 107  FLAG_DOCUMENT_13              int64  \n",
            " 108  FLAG_DOCUMENT_14              int64  \n",
            " 109  FLAG_DOCUMENT_15              int64  \n",
            " 110  FLAG_DOCUMENT_16              int64  \n",
            " 111  FLAG_DOCUMENT_17              int64  \n",
            " 112  FLAG_DOCUMENT_18              int64  \n",
            " 113  FLAG_DOCUMENT_19              int64  \n",
            " 114  FLAG_DOCUMENT_20              int64  \n",
            " 115  FLAG_DOCUMENT_21              int64  \n",
            " 116  AMT_REQ_CREDIT_BUREAU_HOUR    float64\n",
            " 117  AMT_REQ_CREDIT_BUREAU_DAY     float64\n",
            " 118  AMT_REQ_CREDIT_BUREAU_WEEK    float64\n",
            " 119  AMT_REQ_CREDIT_BUREAU_MON     float64\n",
            " 120  AMT_REQ_CREDIT_BUREAU_QRT     float64\n",
            " 121  AMT_REQ_CREDIT_BUREAU_YEAR    float64\n",
            "dtypes: float64(65), int64(41), object(16)\n",
            "memory usage: 286.2+ MB\n"
          ]
        }
      ]
    },
    {
      "cell_type": "markdown",
      "source": [
        "#Visualisasi"
      ],
      "metadata": {
        "id": "kfDJr3AUvGvV"
      }
    },
    {
      "cell_type": "code",
      "source": [
        "train = application_train.copy()"
      ],
      "metadata": {
        "id": "dOnl84UFvOhc"
      },
      "execution_count": null,
      "outputs": []
    },
    {
      "cell_type": "code",
      "source": [
        "decode_map = {0: \"No Payment Difficulties\", 1: \"Payment Difficulties\"}\n",
        "def decode_sentiment(label):\n",
        "    return decode_map[int(label)]\n",
        "\n",
        "train['TARGET'] = train['TARGET'].apply(lambda x: decode_sentiment(x))\n",
        "\n",
        "target_pay = (train[['TARGET']]\n",
        "                .groupby(\"TARGET\")\n",
        "                .agg(COUNT=(\"TARGET\",\"count\"))\n",
        "                .sort_values(by=[\"COUNT\"],ascending=False)\n",
        "                .reset_index()\n",
        "                )\n",
        "\n",
        "target_pay.style.background_gradient(cmap='YlOrBr')"
      ],
      "metadata": {
        "colab": {
          "base_uri": "https://localhost:8080/",
          "height": 112
        },
        "id": "ErlmAeo7vQlo",
        "outputId": "54a66608-f866-4e8f-8488-57acf48a0bac"
      },
      "execution_count": null,
      "outputs": [
        {
          "output_type": "execute_result",
          "data": {
            "text/plain": [
              "<pandas.io.formats.style.Styler at 0x7f7262225f40>"
            ],
            "text/html": [
              "<style type=\"text/css\">\n",
              "#T_db103_row0_col1 {\n",
              "  background-color: #662506;\n",
              "  color: #f1f1f1;\n",
              "}\n",
              "#T_db103_row1_col1 {\n",
              "  background-color: #ffffe5;\n",
              "  color: #000000;\n",
              "}\n",
              "</style>\n",
              "<table id=\"T_db103_\" class=\"dataframe\">\n",
              "  <thead>\n",
              "    <tr>\n",
              "      <th class=\"blank level0\" >&nbsp;</th>\n",
              "      <th class=\"col_heading level0 col0\" >TARGET</th>\n",
              "      <th class=\"col_heading level0 col1\" >COUNT</th>\n",
              "    </tr>\n",
              "  </thead>\n",
              "  <tbody>\n",
              "    <tr>\n",
              "      <th id=\"T_db103_level0_row0\" class=\"row_heading level0 row0\" >0</th>\n",
              "      <td id=\"T_db103_row0_col0\" class=\"data row0 col0\" >No Payment Difficulties</td>\n",
              "      <td id=\"T_db103_row0_col1\" class=\"data row0 col1\" >282686</td>\n",
              "    </tr>\n",
              "    <tr>\n",
              "      <th id=\"T_db103_level0_row1\" class=\"row_heading level0 row1\" >1</th>\n",
              "      <td id=\"T_db103_row1_col0\" class=\"data row1 col0\" >Payment Difficulties</td>\n",
              "      <td id=\"T_db103_row1_col1\" class=\"data row1 col1\" >24825</td>\n",
              "    </tr>\n",
              "  </tbody>\n",
              "</table>\n"
            ]
          },
          "metadata": {},
          "execution_count": 8
        }
      ]
    },
    {
      "cell_type": "code",
      "source": [
        "pay_ability = train['TARGET'].value_counts(normalize=True)\n",
        "pay_ability.reset_index().style.background_gradient(cmap='YlOrBr')"
      ],
      "metadata": {
        "colab": {
          "base_uri": "https://localhost:8080/",
          "height": 112
        },
        "id": "Dhs0XnZSvkLd",
        "outputId": "99a6c62a-091f-4af8-c481-2ca89f5db666"
      },
      "execution_count": null,
      "outputs": [
        {
          "output_type": "execute_result",
          "data": {
            "text/plain": [
              "<pandas.io.formats.style.Styler at 0x7f7262225a00>"
            ],
            "text/html": [
              "<style type=\"text/css\">\n",
              "#T_38007_row0_col1 {\n",
              "  background-color: #662506;\n",
              "  color: #f1f1f1;\n",
              "}\n",
              "#T_38007_row1_col1 {\n",
              "  background-color: #ffffe5;\n",
              "  color: #000000;\n",
              "}\n",
              "</style>\n",
              "<table id=\"T_38007_\" class=\"dataframe\">\n",
              "  <thead>\n",
              "    <tr>\n",
              "      <th class=\"blank level0\" >&nbsp;</th>\n",
              "      <th class=\"col_heading level0 col0\" >index</th>\n",
              "      <th class=\"col_heading level0 col1\" >TARGET</th>\n",
              "    </tr>\n",
              "  </thead>\n",
              "  <tbody>\n",
              "    <tr>\n",
              "      <th id=\"T_38007_level0_row0\" class=\"row_heading level0 row0\" >0</th>\n",
              "      <td id=\"T_38007_row0_col0\" class=\"data row0 col0\" >No Payment Difficulties</td>\n",
              "      <td id=\"T_38007_row0_col1\" class=\"data row0 col1\" >0.919271</td>\n",
              "    </tr>\n",
              "    <tr>\n",
              "      <th id=\"T_38007_level0_row1\" class=\"row_heading level0 row1\" >1</th>\n",
              "      <td id=\"T_38007_row1_col0\" class=\"data row1 col0\" >Payment Difficulties</td>\n",
              "      <td id=\"T_38007_row1_col1\" class=\"data row1 col1\" >0.080729</td>\n",
              "    </tr>\n",
              "  </tbody>\n",
              "</table>\n"
            ]
          },
          "metadata": {},
          "execution_count": 9
        }
      ]
    },
    {
      "cell_type": "code",
      "source": [
        "fig = plt.figure(figsize = (12,7))\n",
        "pay_ability.plot(kind='bar', color= ['blue','red'], alpha = 0.9, rot=0)\n",
        "plt.title('Distribusi Kemampuan Pembayaran Client\\n', fontsize=14)\n",
        "plt.show()"
      ],
      "metadata": {
        "colab": {
          "base_uri": "https://localhost:8080/",
          "height": 462
        },
        "id": "fJ6XT3eZvtnR",
        "outputId": "26d4130e-c707-44f0-bd57-29a511f5c609"
      },
      "execution_count": null,
      "outputs": [
        {
          "output_type": "display_data",
          "data": {
            "text/plain": [
              "<Figure size 864x504 with 1 Axes>"
            ],
            "image/png": "[encoded data removed]"
          },
          "metadata": {
            "needs_background": "light"
          }
        }
      ]
    },
    {
      "cell_type": "markdown",
      "source": [
        "Education Type Vs Target"
      ],
      "metadata": {
        "id": "TeZN9BvawXsa"
      }
    },
    {
      "cell_type": "code",
      "source": [
        "education_type = train.groupby(by=['NAME_EDUCATION_TYPE','TARGET'], as_index=False)['SK_ID_CURR'].count()\n",
        "print('Clients Repayment Abilities By Education Type')\n",
        "education_type.sort_values(by='SK_ID_CURR', ascending=False)\n",
        "education_type.style.background_gradient(cmap='YlOrBr')"
      ],
      "metadata": {
        "colab": {
          "base_uri": "https://localhost:8080/",
          "height": 380
        },
        "id": "lAxX8IsNwYVX",
        "outputId": "43e1c019-ba85-4713-fc97-90da3f919971"
      },
      "execution_count": null,
      "outputs": [
        {
          "output_type": "stream",
          "name": "stdout",
          "text": [
            "Clients Repayment Abilities By Education Type\n"
          ]
        },
        {
          "output_type": "execute_result",
          "data": {
            "text/plain": [
              "<pandas.io.formats.style.Styler at 0x7f72619a2550>"
            ],
            "text/html": [
              "<style type=\"text/css\">\n",
              "#T_c1158_row0_col2, #T_c1158_row1_col2, #T_c1158_row7_col2 {\n",
              "  background-color: #ffffe5;\n",
              "  color: #000000;\n",
              "}\n",
              "#T_c1158_row2_col2 {\n",
              "  background-color: #fec859;\n",
              "  color: #000000;\n",
              "}\n",
              "#T_c1158_row3_col2 {\n",
              "  background-color: #fffedf;\n",
              "  color: #000000;\n",
              "}\n",
              "#T_c1158_row4_col2 {\n",
              "  background-color: #fffcd6;\n",
              "  color: #000000;\n",
              "}\n",
              "#T_c1158_row5_col2 {\n",
              "  background-color: #ffffe4;\n",
              "  color: #000000;\n",
              "}\n",
              "#T_c1158_row6_col2 {\n",
              "  background-color: #fffee0;\n",
              "  color: #000000;\n",
              "}\n",
              "#T_c1158_row8_col2 {\n",
              "  background-color: #662506;\n",
              "  color: #f1f1f1;\n",
              "}\n",
              "#T_c1158_row9_col2 {\n",
              "  background-color: #fff9c5;\n",
              "  color: #000000;\n",
              "}\n",
              "</style>\n",
              "<table id=\"T_c1158_\" class=\"dataframe\">\n",
              "  <thead>\n",
              "    <tr>\n",
              "      <th class=\"blank level0\" >&nbsp;</th>\n",
              "      <th class=\"col_heading level0 col0\" >NAME_EDUCATION_TYPE</th>\n",
              "      <th class=\"col_heading level0 col1\" >TARGET</th>\n",
              "      <th class=\"col_heading level0 col2\" >SK_ID_CURR</th>\n",
              "    </tr>\n",
              "  </thead>\n",
              "  <tbody>\n",
              "    <tr>\n",
              "      <th id=\"T_c1158_level0_row0\" class=\"row_heading level0 row0\" >0</th>\n",
              "      <td id=\"T_c1158_row0_col0\" class=\"data row0 col0\" >Academic degree</td>\n",
              "      <td id=\"T_c1158_row0_col1\" class=\"data row0 col1\" >No Payment Difficulties</td>\n",
              "      <td id=\"T_c1158_row0_col2\" class=\"data row0 col2\" >161</td>\n",
              "    </tr>\n",
              "    <tr>\n",
              "      <th id=\"T_c1158_level0_row1\" class=\"row_heading level0 row1\" >1</th>\n",
              "      <td id=\"T_c1158_row1_col0\" class=\"data row1 col0\" >Academic degree</td>\n",
              "      <td id=\"T_c1158_row1_col1\" class=\"data row1 col1\" >Payment Difficulties</td>\n",
              "      <td id=\"T_c1158_row1_col2\" class=\"data row1 col2\" >3</td>\n",
              "    </tr>\n",
              "    <tr>\n",
              "      <th id=\"T_c1158_level0_row2\" class=\"row_heading level0 row2\" >2</th>\n",
              "      <td id=\"T_c1158_row2_col0\" class=\"data row2 col0\" >Higher education</td>\n",
              "      <td id=\"T_c1158_row2_col1\" class=\"data row2 col1\" >No Payment Difficulties</td>\n",
              "      <td id=\"T_c1158_row2_col2\" class=\"data row2 col2\" >70854</td>\n",
              "    </tr>\n",
              "    <tr>\n",
              "      <th id=\"T_c1158_level0_row3\" class=\"row_heading level0 row3\" >3</th>\n",
              "      <td id=\"T_c1158_row3_col0\" class=\"data row3 col0\" >Higher education</td>\n",
              "      <td id=\"T_c1158_row3_col1\" class=\"data row3 col1\" >Payment Difficulties</td>\n",
              "      <td id=\"T_c1158_row3_col2\" class=\"data row3 col2\" >4009</td>\n",
              "    </tr>\n",
              "    <tr>\n",
              "      <th id=\"T_c1158_level0_row4\" class=\"row_heading level0 row4\" >4</th>\n",
              "      <td id=\"T_c1158_row4_col0\" class=\"data row4 col0\" >Incomplete higher</td>\n",
              "      <td id=\"T_c1158_row4_col1\" class=\"data row4 col1\" >No Payment Difficulties</td>\n",
              "      <td id=\"T_c1158_row4_col2\" class=\"data row4 col2\" >9405</td>\n",
              "    </tr>\n",
              "    <tr>\n",
              "      <th id=\"T_c1158_level0_row5\" class=\"row_heading level0 row5\" >5</th>\n",
              "      <td id=\"T_c1158_row5_col0\" class=\"data row5 col0\" >Incomplete higher</td>\n",
              "      <td id=\"T_c1158_row5_col1\" class=\"data row5 col1\" >Payment Difficulties</td>\n",
              "      <td id=\"T_c1158_row5_col2\" class=\"data row5 col2\" >872</td>\n",
              "    </tr>\n",
              "    <tr>\n",
              "      <th id=\"T_c1158_level0_row6\" class=\"row_heading level0 row6\" >6</th>\n",
              "      <td id=\"T_c1158_row6_col0\" class=\"data row6 col0\" >Lower secondary</td>\n",
              "      <td id=\"T_c1158_row6_col1\" class=\"data row6 col1\" >No Payment Difficulties</td>\n",
              "      <td id=\"T_c1158_row6_col2\" class=\"data row6 col2\" >3399</td>\n",
              "    </tr>\n",
              "    <tr>\n",
              "      <th id=\"T_c1158_level0_row7\" class=\"row_heading level0 row7\" >7</th>\n",
              "      <td id=\"T_c1158_row7_col0\" class=\"data row7 col0\" >Lower secondary</td>\n",
              "      <td id=\"T_c1158_row7_col1\" class=\"data row7 col1\" >Payment Difficulties</td>\n",
              "      <td id=\"T_c1158_row7_col2\" class=\"data row7 col2\" >417</td>\n",
              "    </tr>\n",
              "    <tr>\n",
              "      <th id=\"T_c1158_level0_row8\" class=\"row_heading level0 row8\" >8</th>\n",
              "      <td id=\"T_c1158_row8_col0\" class=\"data row8 col0\" >Secondary / secondary special</td>\n",
              "      <td id=\"T_c1158_row8_col1\" class=\"data row8 col1\" >No Payment Difficulties</td>\n",
              "      <td id=\"T_c1158_row8_col2\" class=\"data row8 col2\" >198867</td>\n",
              "    </tr>\n",
              "    <tr>\n",
              "      <th id=\"T_c1158_level0_row9\" class=\"row_heading level0 row9\" >9</th>\n",
              "      <td id=\"T_c1158_row9_col0\" class=\"data row9 col0\" >Secondary / secondary special</td>\n",
              "      <td id=\"T_c1158_row9_col1\" class=\"data row9 col1\" >Payment Difficulties</td>\n",
              "      <td id=\"T_c1158_row9_col2\" class=\"data row9 col2\" >19524</td>\n",
              "    </tr>\n",
              "  </tbody>\n",
              "</table>\n"
            ]
          },
          "metadata": {},
          "execution_count": 11
        }
      ]
    },
    {
      "cell_type": "code",
      "source": [
        "application_train[['NAME_EDUCATION_TYPE','TARGET']].groupby(['NAME_EDUCATION_TYPE'],as_index=False).mean().sort_values(by=['TARGET'], ascending=False)"
      ],
      "metadata": {
        "colab": {
          "base_uri": "https://localhost:8080/",
          "height": 206
        },
        "id": "_CYyjkv6whNn",
        "outputId": "a3f80d2a-04a9-434a-b10b-cd7da1b533fd"
      },
      "execution_count": null,
      "outputs": [
        {
          "output_type": "execute_result",
          "data": {
            "text/plain": [
              "             NAME_EDUCATION_TYPE    TARGET\n",
              "3                Lower secondary  0.109277\n",
              "4  Secondary / secondary special  0.089399\n",
              "2              Incomplete higher  0.084850\n",
              "1               Higher education  0.053551\n",
              "0                Academic degree  0.018293"
            ],
            "text/html": [
              "\n",
              "  <div id=\"df-67851c72-064a-4c69-bfa1-92f760292b1d\">\n",
              "    <div class=\"colab-df-container\">\n",
              "      <div>\n",
              "<style scoped>\n",
              "    .dataframe tbody tr th:only-of-type {\n",
              "        vertical-align: middle;\n",
              "    }\n",
              "\n",
              "    .dataframe tbody tr th {\n",
              "        vertical-align: top;\n",
              "    }\n",
              "\n",
              "    .dataframe thead th {\n",
              "        text-align: right;\n",
              "    }\n",
              "</style>\n",
              "<table border=\"1\" class=\"dataframe\">\n",
              "  <thead>\n",
              "    <tr style=\"text-align: right;\">\n",
              "      <th></th>\n",
              "      <th>NAME_EDUCATION_TYPE</th>\n",
              "      <th>TARGET</th>\n",
              "    </tr>\n",
              "  </thead>\n",
              "  <tbody>\n",
              "    <tr>\n",
              "      <th>3</th>\n",
              "      <td>Lower secondary</td>\n",
              "      <td>0.109277</td>\n",
              "    </tr>\n",
              "    <tr>\n",
              "      <th>4</th>\n",
              "      <td>Secondary / secondary special</td>\n",
              "      <td>0.089399</td>\n",
              "    </tr>\n",
              "    <tr>\n",
              "      <th>2</th>\n",
              "      <td>Incomplete higher</td>\n",
              "      <td>0.084850</td>\n",
              "    </tr>\n",
              "    <tr>\n",
              "      <th>1</th>\n",
              "      <td>Higher education</td>\n",
              "      <td>0.053551</td>\n",
              "    </tr>\n",
              "    <tr>\n",
              "      <th>0</th>\n",
              "      <td>Academic degree</td>\n",
              "      <td>0.018293</td>\n",
              "    </tr>\n",
              "  </tbody>\n",
              "</table>\n",
              "</div>\n",
              "      <button class=\"colab-df-convert\" onclick=\"convertToInteractive('df-67851c72-064a-4c69-bfa1-92f760292b1d')\"\n",
              "              title=\"Convert this dataframe to an interactive table.\"\n",
              "              style=\"display:none;\">\n",
              "        \n",
              "  <svg xmlns=\"http://www.w3.org/2000/svg\" height=\"24px\"viewBox=\"0 0 24 24\"\n",
              "       width=\"24px\">\n",
              "    <path d=\"M0 0h24v24H0V0z\" fill=\"none\"/>\n",
              "    <path d=\"M18.56 5.44l.94 2.06.94-2.06 2.06-.94-2.06-.94-.94-2.06-.94 2.06-2.06.94zm-11 1L8.5 8.5l.94-2.06 2.06-.94-2.06-.94L8.5 2.5l-.94 2.06-2.06.94zm10 10l.94 2.06.94-2.06 2.06-.94-2.06-.94-.94-2.06-.94 2.06-2.06.94z\"/><path d=\"M17.41 7.96l-1.37-1.37c-.4-.4-.92-.59-1.43-.59-.52 0-1.04.2-1.43.59L10.3 9.45l-7.72 7.72c-.78.78-.78 2.05 0 2.83L4 21.41c.39.39.9.59 1.41.59.51 0 1.02-.2 1.41-.59l7.78-7.78 2.81-2.81c.8-.78.8-2.07 0-2.86zM5.41 20L4 18.59l7.72-7.72 1.47 1.35L5.41 20z\"/>\n",
              "  </svg>\n",
              "      </button>\n",
              "      \n",
              "  <style>\n",
              "    .colab-df-container {\n",
              "      display:flex;\n",
              "      flex-wrap:wrap;\n",
              "      gap: 12px;\n",
              "    }\n",
              "\n",
              "    .colab-df-convert {\n",
              "      background-color: #E8F0FE;\n",
              "      border: none;\n",
              "      border-radius: 50%;\n",
              "      cursor: pointer;\n",
              "      display: none;\n",
              "      fill: #1967D2;\n",
              "      height: 32px;\n",
              "      padding: 0 0 0 0;\n",
              "      width: 32px;\n",
              "    }\n",
              "\n",
              "    .colab-df-convert:hover {\n",
              "      background-color: #E2EBFA;\n",
              "      box-shadow: 0px 1px 2px rgba(60, 64, 67, 0.3), 0px 1px 3px 1px rgba(60, 64, 67, 0.15);\n",
              "      fill: #174EA6;\n",
              "    }\n",
              "\n",
              "    [theme=dark] .colab-df-convert {\n",
              "      background-color: #3B4455;\n",
              "      fill: #D2E3FC;\n",
              "    }\n",
              "\n",
              "    [theme=dark] .colab-df-convert:hover {\n",
              "      background-color: #434B5C;\n",
              "      box-shadow: 0px 1px 3px 1px rgba(0, 0, 0, 0.15);\n",
              "      filter: drop-shadow(0px 1px 2px rgba(0, 0, 0, 0.3));\n",
              "      fill: #FFFFFF;\n",
              "    }\n",
              "  </style>\n",
              "\n",
              "      <script>\n",
              "        const buttonEl =\n",
              "          document.querySelector('#df-67851c72-064a-4c69-bfa1-92f760292b1d button.colab-df-convert');\n",
              "        buttonEl.style.display =\n",
              "          google.colab.kernel.accessAllowed ? 'block' : 'none';\n",
              "\n",
              "        async function convertToInteractive(key) {\n",
              "          const element = document.querySelector('#df-67851c72-064a-4c69-bfa1-92f760292b1d');\n",
              "          const dataTable =\n",
              "            await google.colab.kernel.invokeFunction('convertToInteractive',\n",
              "                                                     [key], {});\n",
              "          if (!dataTable) return;\n",
              "\n",
              "          const docLinkHtml = 'Like what you see? Visit the ' +\n",
              "            '<a target=\"_blank\" href=https://colab.research.google.com/notebooks/data_table.ipynb>data table notebook</a>'\n",
              "            + ' to learn more about interactive tables.';\n",
              "          element.innerHTML = '';\n",
              "          dataTable['output_type'] = 'display_data';\n",
              "          await google.colab.output.renderOutput(dataTable, element);\n",
              "          const docLink = document.createElement('div');\n",
              "          docLink.innerHTML = docLinkHtml;\n",
              "          element.appendChild(docLink);\n",
              "        }\n",
              "      </script>\n",
              "    </div>\n",
              "  </div>\n",
              "  "
            ]
          },
          "metadata": {},
          "execution_count": 12
        }
      ]
    },
    {
      "cell_type": "markdown",
      "source": [
        "Sejumlah besar aplikasi (218K) diajukan oleh klien dengan pendidikan menengah\n",
        "\n",
        "Nasabah dengan jenis pendidikan menengah pertama memiliki persentase tertinggi (sekitar 10%) yang mengalami masalah dalam pengembalian pinjaman"
      ],
      "metadata": {
        "id": "lmC2VZ1GwiGz"
      }
    },
    {
      "cell_type": "markdown",
      "source": [
        "# Data Cleaning\n",
        "\n",
        "Mendeteksi data duplikat"
      ],
      "metadata": {
        "id": "9H7BB7P2wpac"
      }
    },
    {
      "cell_type": "code",
      "source": [
        "print('Banyaknyadata duplikat:', application_train.duplicated().sum())\n",
        "# there is no duplication"
      ],
      "metadata": {
        "colab": {
          "base_uri": "https://localhost:8080/"
        },
        "id": "Bh7x7XeJwynl",
        "outputId": "e00bc190-803a-4af6-eb98-c669e632825e"
      },
      "execution_count": null,
      "outputs": [
        {
          "output_type": "stream",
          "name": "stdout",
          "text": [
            "Banyaknyadata duplikat: 0\n"
          ]
        }
      ]
    },
    {
      "cell_type": "markdown",
      "source": [
        "Mendeteksi missing values"
      ],
      "metadata": {
        "id": "WNV7aYLwxHHK"
      }
    },
    {
      "cell_type": "code",
      "source": [
        "print('Apa ada missing values:', application_train.isnull().values.any())\n",
        "nvc = pd.DataFrame(application_train.isnull().sum(), columns=['Total Null Values'])\n",
        "nvc['Percentage'] = (nvc['Total Null Values']/application_train.shape[0])*100\n",
        "nvc.sort_values(by=['Percentage'], ascending=False).reset_index()"
      ],
      "metadata": {
        "colab": {
          "base_uri": "https://localhost:8080/",
          "height": 441
        },
        "id": "fsWXWFpIwpHr",
        "outputId": "7680d738-40a9-42d4-dad1-6d1687041ca3"
      },
      "execution_count": null,
      "outputs": [
        {
          "output_type": "stream",
          "name": "stdout",
          "text": [
            "Apa ada missing values: True\n"
          ]
        },
        {
          "output_type": "execute_result",
          "data": {
            "text/plain": [
              "                        index  Total Null Values  Percentage\n",
              "0             COMMONAREA_MEDI             214865   69.872297\n",
              "1              COMMONAREA_AVG             214865   69.872297\n",
              "2             COMMONAREA_MODE             214865   69.872297\n",
              "3    NONLIVINGAPARTMENTS_MODE             213514   69.432963\n",
              "4     NONLIVINGAPARTMENTS_AVG             213514   69.432963\n",
              "..                        ...                ...         ...\n",
              "117         NAME_HOUSING_TYPE                  0    0.000000\n",
              "118        NAME_FAMILY_STATUS                  0    0.000000\n",
              "119       NAME_EDUCATION_TYPE                  0    0.000000\n",
              "120          NAME_INCOME_TYPE                  0    0.000000\n",
              "121                SK_ID_CURR                  0    0.000000\n",
              "\n",
              "[122 rows x 3 columns]"
            ],
            "text/html": [
              "\n",
              "  <div id=\"df-74f33ab7-77ce-4341-a0b9-372c4a4576c4\">\n",
              "    <div class=\"colab-df-container\">\n",
              "      <div>\n",
              "<style scoped>\n",
              "    .dataframe tbody tr th:only-of-type {\n",
              "        vertical-align: middle;\n",
              "    }\n",
              "\n",
              "    .dataframe tbody tr th {\n",
              "        vertical-align: top;\n",
              "    }\n",
              "\n",
              "    .dataframe thead th {\n",
              "        text-align: right;\n",
              "    }\n",
              "</style>\n",
              "<table border=\"1\" class=\"dataframe\">\n",
              "  <thead>\n",
              "    <tr style=\"text-align: right;\">\n",
              "      <th></th>\n",
              "      <th>index</th>\n",
              "      <th>Total Null Values</th>\n",
              "      <th>Percentage</th>\n",
              "    </tr>\n",
              "  </thead>\n",
              "  <tbody>\n",
              "    <tr>\n",
              "      <th>0</th>\n",
              "      <td>COMMONAREA_MEDI</td>\n",
              "      <td>214865</td>\n",
              "      <td>69.872297</td>\n",
              "    </tr>\n",
              "    <tr>\n",
              "      <th>1</th>\n",
              "      <td>COMMONAREA_AVG</td>\n",
              "      <td>214865</td>\n",
              "      <td>69.872297</td>\n",
              "    </tr>\n",
              "    <tr>\n",
              "      <th>2</th>\n",
              "      <td>COMMONAREA_MODE</td>\n",
              "      <td>214865</td>\n",
              "      <td>69.872297</td>\n",
              "    </tr>\n",
              "    <tr>\n",
              "      <th>3</th>\n",
              "      <td>NONLIVINGAPARTMENTS_MODE</td>\n",
              "      <td>213514</td>\n",
              "      <td>69.432963</td>\n",
              "    </tr>\n",
              "    <tr>\n",
              "      <th>4</th>\n",
              "      <td>NONLIVINGAPARTMENTS_AVG</td>\n",
              "      <td>213514</td>\n",
              "      <td>69.432963</td>\n",
              "    </tr>\n",
              "    <tr>\n",
              "      <th>...</th>\n",
              "      <td>...</td>\n",
              "      <td>...</td>\n",
              "      <td>...</td>\n",
              "    </tr>\n",
              "    <tr>\n",
              "      <th>117</th>\n",
              "      <td>NAME_HOUSING_TYPE</td>\n",
              "      <td>0</td>\n",
              "      <td>0.000000</td>\n",
              "    </tr>\n",
              "    <tr>\n",
              "      <th>118</th>\n",
              "      <td>NAME_FAMILY_STATUS</td>\n",
              "      <td>0</td>\n",
              "      <td>0.000000</td>\n",
              "    </tr>\n",
              "    <tr>\n",
              "      <th>119</th>\n",
              "      <td>NAME_EDUCATION_TYPE</td>\n",
              "      <td>0</td>\n",
              "      <td>0.000000</td>\n",
              "    </tr>\n",
              "    <tr>\n",
              "      <th>120</th>\n",
              "      <td>NAME_INCOME_TYPE</td>\n",
              "      <td>0</td>\n",
              "      <td>0.000000</td>\n",
              "    </tr>\n",
              "    <tr>\n",
              "      <th>121</th>\n",
              "      <td>SK_ID_CURR</td>\n",
              "      <td>0</td>\n",
              "      <td>0.000000</td>\n",
              "    </tr>\n",
              "  </tbody>\n",
              "</table>\n",
              "<p>122 rows × 3 columns</p>\n",
              "</div>\n",
              "      <button class=\"colab-df-convert\" onclick=\"convertToInteractive('df-74f33ab7-77ce-4341-a0b9-372c4a4576c4')\"\n",
              "              title=\"Convert this dataframe to an interactive table.\"\n",
              "              style=\"display:none;\">\n",
              "        \n",
              "  <svg xmlns=\"http://www.w3.org/2000/svg\" height=\"24px\"viewBox=\"0 0 24 24\"\n",
              "       width=\"24px\">\n",
              "    <path d=\"M0 0h24v24H0V0z\" fill=\"none\"/>\n",
              "    <path d=\"M18.56 5.44l.94 2.06.94-2.06 2.06-.94-2.06-.94-.94-2.06-.94 2.06-2.06.94zm-11 1L8.5 8.5l.94-2.06 2.06-.94-2.06-.94L8.5 2.5l-.94 2.06-2.06.94zm10 10l.94 2.06.94-2.06 2.06-.94-2.06-.94-.94-2.06-.94 2.06-2.06.94z\"/><path d=\"M17.41 7.96l-1.37-1.37c-.4-.4-.92-.59-1.43-.59-.52 0-1.04.2-1.43.59L10.3 9.45l-7.72 7.72c-.78.78-.78 2.05 0 2.83L4 21.41c.39.39.9.59 1.41.59.51 0 1.02-.2 1.41-.59l7.78-7.78 2.81-2.81c.8-.78.8-2.07 0-2.86zM5.41 20L4 18.59l7.72-7.72 1.47 1.35L5.41 20z\"/>\n",
              "  </svg>\n",
              "      </button>\n",
              "      \n",
              "  <style>\n",
              "    .colab-df-container {\n",
              "      display:flex;\n",
              "      flex-wrap:wrap;\n",
              "      gap: 12px;\n",
              "    }\n",
              "\n",
              "    .colab-df-convert {\n",
              "      background-color: #E8F0FE;\n",
              "      border: none;\n",
              "      border-radius: 50%;\n",
              "      cursor: pointer;\n",
              "      display: none;\n",
              "      fill: #1967D2;\n",
              "      height: 32px;\n",
              "      padding: 0 0 0 0;\n",
              "      width: 32px;\n",
              "    }\n",
              "\n",
              "    .colab-df-convert:hover {\n",
              "      background-color: #E2EBFA;\n",
              "      box-shadow: 0px 1px 2px rgba(60, 64, 67, 0.3), 0px 1px 3px 1px rgba(60, 64, 67, 0.15);\n",
              "      fill: #174EA6;\n",
              "    }\n",
              "\n",
              "    [theme=dark] .colab-df-convert {\n",
              "      background-color: #3B4455;\n",
              "      fill: #D2E3FC;\n",
              "    }\n",
              "\n",
              "    [theme=dark] .colab-df-convert:hover {\n",
              "      background-color: #434B5C;\n",
              "      box-shadow: 0px 1px 3px 1px rgba(0, 0, 0, 0.15);\n",
              "      filter: drop-shadow(0px 1px 2px rgba(0, 0, 0, 0.3));\n",
              "      fill: #FFFFFF;\n",
              "    }\n",
              "  </style>\n",
              "\n",
              "      <script>\n",
              "        const buttonEl =\n",
              "          document.querySelector('#df-74f33ab7-77ce-4341-a0b9-372c4a4576c4 button.colab-df-convert');\n",
              "        buttonEl.style.display =\n",
              "          google.colab.kernel.accessAllowed ? 'block' : 'none';\n",
              "\n",
              "        async function convertToInteractive(key) {\n",
              "          const element = document.querySelector('#df-74f33ab7-77ce-4341-a0b9-372c4a4576c4');\n",
              "          const dataTable =\n",
              "            await google.colab.kernel.invokeFunction('convertToInteractive',\n",
              "                                                     [key], {});\n",
              "          if (!dataTable) return;\n",
              "\n",
              "          const docLinkHtml = 'Like what you see? Visit the ' +\n",
              "            '<a target=\"_blank\" href=https://colab.research.google.com/notebooks/data_table.ipynb>data table notebook</a>'\n",
              "            + ' to learn more about interactive tables.';\n",
              "          element.innerHTML = '';\n",
              "          dataTable['output_type'] = 'display_data';\n",
              "          await google.colab.output.renderOutput(dataTable, element);\n",
              "          const docLink = document.createElement('div');\n",
              "          docLink.innerHTML = docLinkHtml;\n",
              "          element.appendChild(docLink);\n",
              "        }\n",
              "      </script>\n",
              "    </div>\n",
              "  </div>\n",
              "  "
            ]
          },
          "metadata": {},
          "execution_count": 15
        }
      ]
    },
    {
      "cell_type": "markdown",
      "source": [
        "# Buang feature yang memiliki banyak missing value (± 50%)"
      ],
      "metadata": {
        "id": "NmcJ1bZfxgiE"
      }
    },
    {
      "cell_type": "code",
      "source": [
        "application_train.drop(application_train.iloc[:, 44:91], inplace=True, axis=1)\n",
        "application_train.drop(['OWN_CAR_AGE','EXT_SOURCE_1'], inplace=True, axis=1)\n",
        "print('Status missing value:', application_train.isnull().values.any())\n",
        "nvc = pd.DataFrame(application_train.isnull().sum().sort_values(), columns=['Total Null Values'])\n",
        "nvc['Percentage'] = (nvc['Total Null Values']/application_train.shape[0])*100\n",
        "nvc.sort_values(by=['Percentage'], ascending=False).reset_index()"
      ],
      "metadata": {
        "colab": {
          "base_uri": "https://localhost:8080/",
          "height": 441
        },
        "id": "ZoLhsDN5xb9f",
        "outputId": "da4abd87-511c-42b9-8b4e-8f0349227b47"
      },
      "execution_count": null,
      "outputs": [
        {
          "output_type": "stream",
          "name": "stdout",
          "text": [
            "Status missing value: True\n"
          ]
        },
        {
          "output_type": "execute_result",
          "data": {
            "text/plain": [
              "                         index  Total Null Values  Percentage\n",
              "0              OCCUPATION_TYPE              96391   31.345545\n",
              "1                 EXT_SOURCE_3              60965   19.825307\n",
              "2   AMT_REQ_CREDIT_BUREAU_WEEK              41519   13.501631\n",
              "3   AMT_REQ_CREDIT_BUREAU_HOUR              41519   13.501631\n",
              "4    AMT_REQ_CREDIT_BUREAU_DAY              41519   13.501631\n",
              "..                         ...                ...         ...\n",
              "68            FLAG_DOCUMENT_18                  0    0.000000\n",
              "69            FLAG_DOCUMENT_17                  0    0.000000\n",
              "70            FLAG_DOCUMENT_16                  0    0.000000\n",
              "71            FLAG_DOCUMENT_15                  0    0.000000\n",
              "72               DAYS_EMPLOYED                  0    0.000000\n",
              "\n",
              "[73 rows x 3 columns]"
            ],
            "text/html": [
              "\n",
              "  <div id=\"df-7343ccdb-f3c5-4b5b-a1c9-adaa88974408\">\n",
              "    <div class=\"colab-df-container\">\n",
              "      <div>\n",
              "<style scoped>\n",
              "    .dataframe tbody tr th:only-of-type {\n",
              "        vertical-align: middle;\n",
              "    }\n",
              "\n",
              "    .dataframe tbody tr th {\n",
              "        vertical-align: top;\n",
              "    }\n",
              "\n",
              "    .dataframe thead th {\n",
              "        text-align: right;\n",
              "    }\n",
              "</style>\n",
              "<table border=\"1\" class=\"dataframe\">\n",
              "  <thead>\n",
              "    <tr style=\"text-align: right;\">\n",
              "      <th></th>\n",
              "      <th>index</th>\n",
              "      <th>Total Null Values</th>\n",
              "      <th>Percentage</th>\n",
              "    </tr>\n",
              "  </thead>\n",
              "  <tbody>\n",
              "    <tr>\n",
              "      <th>0</th>\n",
              "      <td>OCCUPATION_TYPE</td>\n",
              "      <td>96391</td>\n",
              "      <td>31.345545</td>\n",
              "    </tr>\n",
              "    <tr>\n",
              "      <th>1</th>\n",
              "      <td>EXT_SOURCE_3</td>\n",
              "      <td>60965</td>\n",
              "      <td>19.825307</td>\n",
              "    </tr>\n",
              "    <tr>\n",
              "      <th>2</th>\n",
              "      <td>AMT_REQ_CREDIT_BUREAU_WEEK</td>\n",
              "      <td>41519</td>\n",
              "      <td>13.501631</td>\n",
              "    </tr>\n",
              "    <tr>\n",
              "      <th>3</th>\n",
              "      <td>AMT_REQ_CREDIT_BUREAU_HOUR</td>\n",
              "      <td>41519</td>\n",
              "      <td>13.501631</td>\n",
              "    </tr>\n",
              "    <tr>\n",
              "      <th>4</th>\n",
              "      <td>AMT_REQ_CREDIT_BUREAU_DAY</td>\n",
              "      <td>41519</td>\n",
              "      <td>13.501631</td>\n",
              "    </tr>\n",
              "    <tr>\n",
              "      <th>...</th>\n",
              "      <td>...</td>\n",
              "      <td>...</td>\n",
              "      <td>...</td>\n",
              "    </tr>\n",
              "    <tr>\n",
              "      <th>68</th>\n",
              "      <td>FLAG_DOCUMENT_18</td>\n",
              "      <td>0</td>\n",
              "      <td>0.000000</td>\n",
              "    </tr>\n",
              "    <tr>\n",
              "      <th>69</th>\n",
              "      <td>FLAG_DOCUMENT_17</td>\n",
              "      <td>0</td>\n",
              "      <td>0.000000</td>\n",
              "    </tr>\n",
              "    <tr>\n",
              "      <th>70</th>\n",
              "      <td>FLAG_DOCUMENT_16</td>\n",
              "      <td>0</td>\n",
              "      <td>0.000000</td>\n",
              "    </tr>\n",
              "    <tr>\n",
              "      <th>71</th>\n",
              "      <td>FLAG_DOCUMENT_15</td>\n",
              "      <td>0</td>\n",
              "      <td>0.000000</td>\n",
              "    </tr>\n",
              "    <tr>\n",
              "      <th>72</th>\n",
              "      <td>DAYS_EMPLOYED</td>\n",
              "      <td>0</td>\n",
              "      <td>0.000000</td>\n",
              "    </tr>\n",
              "  </tbody>\n",
              "</table>\n",
              "<p>73 rows × 3 columns</p>\n",
              "</div>\n",
              "      <button class=\"colab-df-convert\" onclick=\"convertToInteractive('df-7343ccdb-f3c5-4b5b-a1c9-adaa88974408')\"\n",
              "              title=\"Convert this dataframe to an interactive table.\"\n",
              "              style=\"display:none;\">\n",
              "        \n",
              "  <svg xmlns=\"http://www.w3.org/2000/svg\" height=\"24px\"viewBox=\"0 0 24 24\"\n",
              "       width=\"24px\">\n",
              "    <path d=\"M0 0h24v24H0V0z\" fill=\"none\"/>\n",
              "    <path d=\"M18.56 5.44l.94 2.06.94-2.06 2.06-.94-2.06-.94-.94-2.06-.94 2.06-2.06.94zm-11 1L8.5 8.5l.94-2.06 2.06-.94-2.06-.94L8.5 2.5l-.94 2.06-2.06.94zm10 10l.94 2.06.94-2.06 2.06-.94-2.06-.94-.94-2.06-.94 2.06-2.06.94z\"/><path d=\"M17.41 7.96l-1.37-1.37c-.4-.4-.92-.59-1.43-.59-.52 0-1.04.2-1.43.59L10.3 9.45l-7.72 7.72c-.78.78-.78 2.05 0 2.83L4 21.41c.39.39.9.59 1.41.59.51 0 1.02-.2 1.41-.59l7.78-7.78 2.81-2.81c.8-.78.8-2.07 0-2.86zM5.41 20L4 18.59l7.72-7.72 1.47 1.35L5.41 20z\"/>\n",
              "  </svg>\n",
              "      </button>\n",
              "      \n",
              "  <style>\n",
              "    .colab-df-container {\n",
              "      display:flex;\n",
              "      flex-wrap:wrap;\n",
              "      gap: 12px;\n",
              "    }\n",
              "\n",
              "    .colab-df-convert {\n",
              "      background-color: #E8F0FE;\n",
              "      border: none;\n",
              "      border-radius: 50%;\n",
              "      cursor: pointer;\n",
              "      display: none;\n",
              "      fill: #1967D2;\n",
              "      height: 32px;\n",
              "      padding: 0 0 0 0;\n",
              "      width: 32px;\n",
              "    }\n",
              "\n",
              "    .colab-df-convert:hover {\n",
              "      background-color: #E2EBFA;\n",
              "      box-shadow: 0px 1px 2px rgba(60, 64, 67, 0.3), 0px 1px 3px 1px rgba(60, 64, 67, 0.15);\n",
              "      fill: #174EA6;\n",
              "    }\n",
              "\n",
              "    [theme=dark] .colab-df-convert {\n",
              "      background-color: #3B4455;\n",
              "      fill: #D2E3FC;\n",
              "    }\n",
              "\n",
              "    [theme=dark] .colab-df-convert:hover {\n",
              "      background-color: #434B5C;\n",
              "      box-shadow: 0px 1px 3px 1px rgba(0, 0, 0, 0.15);\n",
              "      filter: drop-shadow(0px 1px 2px rgba(0, 0, 0, 0.3));\n",
              "      fill: #FFFFFF;\n",
              "    }\n",
              "  </style>\n",
              "\n",
              "      <script>\n",
              "        const buttonEl =\n",
              "          document.querySelector('#df-7343ccdb-f3c5-4b5b-a1c9-adaa88974408 button.colab-df-convert');\n",
              "        buttonEl.style.display =\n",
              "          google.colab.kernel.accessAllowed ? 'block' : 'none';\n",
              "\n",
              "        async function convertToInteractive(key) {\n",
              "          const element = document.querySelector('#df-7343ccdb-f3c5-4b5b-a1c9-adaa88974408');\n",
              "          const dataTable =\n",
              "            await google.colab.kernel.invokeFunction('convertToInteractive',\n",
              "                                                     [key], {});\n",
              "          if (!dataTable) return;\n",
              "\n",
              "          const docLinkHtml = 'Like what you see? Visit the ' +\n",
              "            '<a target=\"_blank\" href=https://colab.research.google.com/notebooks/data_table.ipynb>data table notebook</a>'\n",
              "            + ' to learn more about interactive tables.';\n",
              "          element.innerHTML = '';\n",
              "          dataTable['output_type'] = 'display_data';\n",
              "          await google.colab.output.renderOutput(dataTable, element);\n",
              "          const docLink = document.createElement('div');\n",
              "          docLink.innerHTML = docLinkHtml;\n",
              "          element.appendChild(docLink);\n",
              "        }\n",
              "      </script>\n",
              "    </div>\n",
              "  </div>\n",
              "  "
            ]
          },
          "metadata": {},
          "execution_count": 16
        }
      ]
    },
    {
      "cell_type": "markdown",
      "source": [
        "Imputasi missing value dengan median karena data skewness untuk feature numerik\n",
        "Impurasi missing value dengan modus untuk fitur kategorikal"
      ],
      "metadata": {
        "id": "RXM8GKRryDqh"
      }
    },
    {
      "cell_type": "code",
      "source": [
        "category_columns = application_train.select_dtypes(include=['object']).columns.tolist()\n",
        "integer_columns = application_train.select_dtypes(include=['int64','float64']).columns.tolist()\n",
        "\n",
        "for column in application_train:\n",
        "    if application_train[column].isnull().any():\n",
        "        if(column in category_columns):\n",
        "            application_train[column]=application_train[column].fillna(application_train[column].mode()[0])\n",
        "        else:\n",
        "            application_train[column]=application_train[column].fillna(application_train[column].median())"
      ],
      "metadata": {
        "id": "THmgysgeyRlg"
      },
      "execution_count": null,
      "outputs": []
    },
    {
      "cell_type": "code",
      "source": [
        "print('Apa ada missing value:', application_train.isnull().values.any())\n",
        "print('\\nThe number of missing values for each columns (after imputation): \\n')\n",
        "nvc = pd.DataFrame(application_train.isnull().sum().sort_values(), columns=['Total Null Values'])\n",
        "nvc['Percentage'] = (nvc['Total Null Values']/application_train.shape[0])*100\n",
        "nvc.sort_values(by=['Percentage'], ascending=False).reset_index()"
      ],
      "metadata": {
        "colab": {
          "base_uri": "https://localhost:8080/",
          "height": 493
        },
        "id": "38CQIaymyVA6",
        "outputId": "b29c591f-b81a-4459-cbcb-ceb05f46bb93"
      },
      "execution_count": null,
      "outputs": [
        {
          "output_type": "stream",
          "name": "stdout",
          "text": [
            "Apa ada missing value: False\n",
            "\n",
            "The number of missing values for each columns (after imputation): \n",
            "\n"
          ]
        },
        {
          "output_type": "execute_result",
          "data": {
            "text/plain": [
              "                         index  Total Null Values  Percentage\n",
              "0                   SK_ID_CURR                  0         0.0\n",
              "1   REG_REGION_NOT_WORK_REGION                  0         0.0\n",
              "2   REGION_POPULATION_RELATIVE                  0         0.0\n",
              "3             AMT_INCOME_TOTAL                  0         0.0\n",
              "4                       TARGET                  0         0.0\n",
              "..                         ...                ...         ...\n",
              "68            FLAG_DOCUMENT_20                  0         0.0\n",
              "69            FLAG_DOCUMENT_21                  0         0.0\n",
              "70  AMT_REQ_CREDIT_BUREAU_HOUR                  0         0.0\n",
              "71   AMT_REQ_CREDIT_BUREAU_DAY                  0         0.0\n",
              "72  AMT_REQ_CREDIT_BUREAU_YEAR                  0         0.0\n",
              "\n",
              "[73 rows x 3 columns]"
            ],
            "text/html": [
              "\n",
              "  <div id=\"df-c229020f-ba7a-44d1-be88-b6b1515f5331\">\n",
              "    <div class=\"colab-df-container\">\n",
              "      <div>\n",
              "<style scoped>\n",
              "    .dataframe tbody tr th:only-of-type {\n",
              "        vertical-align: middle;\n",
              "    }\n",
              "\n",
              "    .dataframe tbody tr th {\n",
              "        vertical-align: top;\n",
              "    }\n",
              "\n",
              "    .dataframe thead th {\n",
              "        text-align: right;\n",
              "    }\n",
              "</style>\n",
              "<table border=\"1\" class=\"dataframe\">\n",
              "  <thead>\n",
              "    <tr style=\"text-align: right;\">\n",
              "      <th></th>\n",
              "      <th>index</th>\n",
              "      <th>Total Null Values</th>\n",
              "      <th>Percentage</th>\n",
              "    </tr>\n",
              "  </thead>\n",
              "  <tbody>\n",
              "    <tr>\n",
              "      <th>0</th>\n",
              "      <td>SK_ID_CURR</td>\n",
              "      <td>0</td>\n",
              "      <td>0.0</td>\n",
              "    </tr>\n",
              "    <tr>\n",
              "      <th>1</th>\n",
              "      <td>REG_REGION_NOT_WORK_REGION</td>\n",
              "      <td>0</td>\n",
              "      <td>0.0</td>\n",
              "    </tr>\n",
              "    <tr>\n",
              "      <th>2</th>\n",
              "      <td>REGION_POPULATION_RELATIVE</td>\n",
              "      <td>0</td>\n",
              "      <td>0.0</td>\n",
              "    </tr>\n",
              "    <tr>\n",
              "      <th>3</th>\n",
              "      <td>AMT_INCOME_TOTAL</td>\n",
              "      <td>0</td>\n",
              "      <td>0.0</td>\n",
              "    </tr>\n",
              "    <tr>\n",
              "      <th>4</th>\n",
              "      <td>TARGET</td>\n",
              "      <td>0</td>\n",
              "      <td>0.0</td>\n",
              "    </tr>\n",
              "    <tr>\n",
              "      <th>...</th>\n",
              "      <td>...</td>\n",
              "      <td>...</td>\n",
              "      <td>...</td>\n",
              "    </tr>\n",
              "    <tr>\n",
              "      <th>68</th>\n",
              "      <td>FLAG_DOCUMENT_20</td>\n",
              "      <td>0</td>\n",
              "      <td>0.0</td>\n",
              "    </tr>\n",
              "    <tr>\n",
              "      <th>69</th>\n",
              "      <td>FLAG_DOCUMENT_21</td>\n",
              "      <td>0</td>\n",
              "      <td>0.0</td>\n",
              "    </tr>\n",
              "    <tr>\n",
              "      <th>70</th>\n",
              "      <td>AMT_REQ_CREDIT_BUREAU_HOUR</td>\n",
              "      <td>0</td>\n",
              "      <td>0.0</td>\n",
              "    </tr>\n",
              "    <tr>\n",
              "      <th>71</th>\n",
              "      <td>AMT_REQ_CREDIT_BUREAU_DAY</td>\n",
              "      <td>0</td>\n",
              "      <td>0.0</td>\n",
              "    </tr>\n",
              "    <tr>\n",
              "      <th>72</th>\n",
              "      <td>AMT_REQ_CREDIT_BUREAU_YEAR</td>\n",
              "      <td>0</td>\n",
              "      <td>0.0</td>\n",
              "    </tr>\n",
              "  </tbody>\n",
              "</table>\n",
              "<p>73 rows × 3 columns</p>\n",
              "</div>\n",
              "      <button class=\"colab-df-convert\" onclick=\"convertToInteractive('df-c229020f-ba7a-44d1-be88-b6b1515f5331')\"\n",
              "              title=\"Convert this dataframe to an interactive table.\"\n",
              "              style=\"display:none;\">\n",
              "        \n",
              "  <svg xmlns=\"http://www.w3.org/2000/svg\" height=\"24px\"viewBox=\"0 0 24 24\"\n",
              "       width=\"24px\">\n",
              "    <path d=\"M0 0h24v24H0V0z\" fill=\"none\"/>\n",
              "    <path d=\"M18.56 5.44l.94 2.06.94-2.06 2.06-.94-2.06-.94-.94-2.06-.94 2.06-2.06.94zm-11 1L8.5 8.5l.94-2.06 2.06-.94-2.06-.94L8.5 2.5l-.94 2.06-2.06.94zm10 10l.94 2.06.94-2.06 2.06-.94-2.06-.94-.94-2.06-.94 2.06-2.06.94z\"/><path d=\"M17.41 7.96l-1.37-1.37c-.4-.4-.92-.59-1.43-.59-.52 0-1.04.2-1.43.59L10.3 9.45l-7.72 7.72c-.78.78-.78 2.05 0 2.83L4 21.41c.39.39.9.59 1.41.59.51 0 1.02-.2 1.41-.59l7.78-7.78 2.81-2.81c.8-.78.8-2.07 0-2.86zM5.41 20L4 18.59l7.72-7.72 1.47 1.35L5.41 20z\"/>\n",
              "  </svg>\n",
              "      </button>\n",
              "      \n",
              "  <style>\n",
              "    .colab-df-container {\n",
              "      display:flex;\n",
              "      flex-wrap:wrap;\n",
              "      gap: 12px;\n",
              "    }\n",
              "\n",
              "    .colab-df-convert {\n",
              "      background-color: #E8F0FE;\n",
              "      border: none;\n",
              "      border-radius: 50%;\n",
              "      cursor: pointer;\n",
              "      display: none;\n",
              "      fill: #1967D2;\n",
              "      height: 32px;\n",
              "      padding: 0 0 0 0;\n",
              "      width: 32px;\n",
              "    }\n",
              "\n",
              "    .colab-df-convert:hover {\n",
              "      background-color: #E2EBFA;\n",
              "      box-shadow: 0px 1px 2px rgba(60, 64, 67, 0.3), 0px 1px 3px 1px rgba(60, 64, 67, 0.15);\n",
              "      fill: #174EA6;\n",
              "    }\n",
              "\n",
              "    [theme=dark] .colab-df-convert {\n",
              "      background-color: #3B4455;\n",
              "      fill: #D2E3FC;\n",
              "    }\n",
              "\n",
              "    [theme=dark] .colab-df-convert:hover {\n",
              "      background-color: #434B5C;\n",
              "      box-shadow: 0px 1px 3px 1px rgba(0, 0, 0, 0.15);\n",
              "      filter: drop-shadow(0px 1px 2px rgba(0, 0, 0, 0.3));\n",
              "      fill: #FFFFFF;\n",
              "    }\n",
              "  </style>\n",
              "\n",
              "      <script>\n",
              "        const buttonEl =\n",
              "          document.querySelector('#df-c229020f-ba7a-44d1-be88-b6b1515f5331 button.colab-df-convert');\n",
              "        buttonEl.style.display =\n",
              "          google.colab.kernel.accessAllowed ? 'block' : 'none';\n",
              "\n",
              "        async function convertToInteractive(key) {\n",
              "          const element = document.querySelector('#df-c229020f-ba7a-44d1-be88-b6b1515f5331');\n",
              "          const dataTable =\n",
              "            await google.colab.kernel.invokeFunction('convertToInteractive',\n",
              "                                                     [key], {});\n",
              "          if (!dataTable) return;\n",
              "\n",
              "          const docLinkHtml = 'Like what you see? Visit the ' +\n",
              "            '<a target=\"_blank\" href=https://colab.research.google.com/notebooks/data_table.ipynb>data table notebook</a>'\n",
              "            + ' to learn more about interactive tables.';\n",
              "          element.innerHTML = '';\n",
              "          dataTable['output_type'] = 'display_data';\n",
              "          await google.colab.output.renderOutput(dataTable, element);\n",
              "          const docLink = document.createElement('div');\n",
              "          docLink.innerHTML = docLinkHtml;\n",
              "          element.appendChild(docLink);\n",
              "        }\n",
              "      </script>\n",
              "    </div>\n",
              "  </div>\n",
              "  "
            ]
          },
          "metadata": {},
          "execution_count": 18
        }
      ]
    },
    {
      "cell_type": "markdown",
      "source": [
        "# Model Machine Learning"
      ],
      "metadata": {
        "id": "A91nPTqxyi5k"
      }
    },
    {
      "cell_type": "code",
      "source": [
        "# label encoder\n",
        "application_train[[\"CODE_GENDER\", \"NAME_CONTRACT_TYPE\", \"FLAG_OWN_CAR\", \"FLAG_OWN_REALTY\", \n",
        "          \"NAME_TYPE_SUITE\", \"NAME_INCOME_TYPE\", \"NAME_EDUCATION_TYPE\", \"NAME_FAMILY_STATUS\",\n",
        "         \"NAME_HOUSING_TYPE\", \"OCCUPATION_TYPE\", \"WEEKDAY_APPR_PROCESS_START\", \"ORGANIZATION_TYPE\"]] = application_train[[\"CODE_GENDER\", \"NAME_CONTRACT_TYPE\", \"FLAG_OWN_CAR\", \"FLAG_OWN_REALTY\", \n",
        "          \"NAME_TYPE_SUITE\", \"NAME_INCOME_TYPE\", \"NAME_EDUCATION_TYPE\", \"NAME_FAMILY_STATUS\",\n",
        "         \"NAME_HOUSING_TYPE\", \"OCCUPATION_TYPE\", \"WEEKDAY_APPR_PROCESS_START\", \"ORGANIZATION_TYPE\"]].apply(LabelEncoder().fit_transform)"
      ],
      "metadata": {
        "id": "9UlrSezPyogx"
      },
      "execution_count": null,
      "outputs": []
    },
    {
      "cell_type": "code",
      "source": [
        "application_train.head()"
      ],
      "metadata": {
        "colab": {
          "base_uri": "https://localhost:8080/",
          "height": 300
        },
        "id": "bTUpdL9oytvx",
        "outputId": "2f8895d9-68fc-4ec3-ddb4-b038347f4721"
      },
      "execution_count": null,
      "outputs": [
        {
          "output_type": "execute_result",
          "data": {
            "text/plain": [
              "   SK_ID_CURR  TARGET  NAME_CONTRACT_TYPE  CODE_GENDER  FLAG_OWN_CAR  \\\n",
              "0      100002       1                   0            1             0   \n",
              "1      100003       0                   0            0             0   \n",
              "2      100004       0                   1            1             1   \n",
              "3      100006       0                   0            0             0   \n",
              "4      100007       0                   0            1             0   \n",
              "\n",
              "   FLAG_OWN_REALTY  CNT_CHILDREN  AMT_INCOME_TOTAL  AMT_CREDIT  AMT_ANNUITY  \\\n",
              "0                1             0          202500.0    406597.5      24700.5   \n",
              "1                0             0          270000.0   1293502.5      35698.5   \n",
              "2                1             0           67500.0    135000.0       6750.0   \n",
              "3                1             0          135000.0    312682.5      29686.5   \n",
              "4                1             0          121500.0    513000.0      21865.5   \n",
              "\n",
              "   ...  FLAG_DOCUMENT_18  FLAG_DOCUMENT_19  FLAG_DOCUMENT_20  \\\n",
              "0  ...                 0                 0                 0   \n",
              "1  ...                 0                 0                 0   \n",
              "2  ...                 0                 0                 0   \n",
              "3  ...                 0                 0                 0   \n",
              "4  ...                 0                 0                 0   \n",
              "\n",
              "   FLAG_DOCUMENT_21  AMT_REQ_CREDIT_BUREAU_HOUR  AMT_REQ_CREDIT_BUREAU_DAY  \\\n",
              "0                 0                         0.0                        0.0   \n",
              "1                 0                         0.0                        0.0   \n",
              "2                 0                         0.0                        0.0   \n",
              "3                 0                         0.0                        0.0   \n",
              "4                 0                         0.0                        0.0   \n",
              "\n",
              "   AMT_REQ_CREDIT_BUREAU_WEEK  AMT_REQ_CREDIT_BUREAU_MON  \\\n",
              "0                         0.0                        0.0   \n",
              "1                         0.0                        0.0   \n",
              "2                         0.0                        0.0   \n",
              "3                         0.0                        0.0   \n",
              "4                         0.0                        0.0   \n",
              "\n",
              "   AMT_REQ_CREDIT_BUREAU_QRT  AMT_REQ_CREDIT_BUREAU_YEAR  \n",
              "0                        0.0                         1.0  \n",
              "1                        0.0                         0.0  \n",
              "2                        0.0                         0.0  \n",
              "3                        0.0                         1.0  \n",
              "4                        0.0                         0.0  \n",
              "\n",
              "[5 rows x 73 columns]"
            ],
            "text/html": [
              "\n",
              "  <div id=\"df-3988a603-3a87-499b-833c-0359bcc642e1\">\n",
              "    <div class=\"colab-df-container\">\n",
              "      <div>\n",
              "<style scoped>\n",
              "    .dataframe tbody tr th:only-of-type {\n",
              "        vertical-align: middle;\n",
              "    }\n",
              "\n",
              "    .dataframe tbody tr th {\n",
              "        vertical-align: top;\n",
              "    }\n",
              "\n",
              "    .dataframe thead th {\n",
              "        text-align: right;\n",
              "    }\n",
              "</style>\n",
              "<table border=\"1\" class=\"dataframe\">\n",
              "  <thead>\n",
              "    <tr style=\"text-align: right;\">\n",
              "      <th></th>\n",
              "      <th>SK_ID_CURR</th>\n",
              "      <th>TARGET</th>\n",
              "      <th>NAME_CONTRACT_TYPE</th>\n",
              "      <th>CODE_GENDER</th>\n",
              "      <th>FLAG_OWN_CAR</th>\n",
              "      <th>FLAG_OWN_REALTY</th>\n",
              "      <th>CNT_CHILDREN</th>\n",
              "      <th>AMT_INCOME_TOTAL</th>\n",
              "      <th>AMT_CREDIT</th>\n",
              "      <th>AMT_ANNUITY</th>\n",
              "      <th>...</th>\n",
              "      <th>FLAG_DOCUMENT_18</th>\n",
              "      <th>FLAG_DOCUMENT_19</th>\n",
              "      <th>FLAG_DOCUMENT_20</th>\n",
              "      <th>FLAG_DOCUMENT_21</th>\n",
              "      <th>AMT_REQ_CREDIT_BUREAU_HOUR</th>\n",
              "      <th>AMT_REQ_CREDIT_BUREAU_DAY</th>\n",
              "      <th>AMT_REQ_CREDIT_BUREAU_WEEK</th>\n",
              "      <th>AMT_REQ_CREDIT_BUREAU_MON</th>\n",
              "      <th>AMT_REQ_CREDIT_BUREAU_QRT</th>\n",
              "      <th>AMT_REQ_CREDIT_BUREAU_YEAR</th>\n",
              "    </tr>\n",
              "  </thead>\n",
              "  <tbody>\n",
              "    <tr>\n",
              "      <th>0</th>\n",
              "      <td>100002</td>\n",
              "      <td>1</td>\n",
              "      <td>0</td>\n",
              "      <td>1</td>\n",
              "      <td>0</td>\n",
              "      <td>1</td>\n",
              "      <td>0</td>\n",
              "      <td>202500.0</td>\n",
              "      <td>406597.5</td>\n",
              "      <td>24700.5</td>\n",
              "      <td>...</td>\n",
              "      <td>0</td>\n",
              "      <td>0</td>\n",
              "      <td>0</td>\n",
              "      <td>0</td>\n",
              "      <td>0.0</td>\n",
              "      <td>0.0</td>\n",
              "      <td>0.0</td>\n",
              "      <td>0.0</td>\n",
              "      <td>0.0</td>\n",
              "      <td>1.0</td>\n",
              "    </tr>\n",
              "    <tr>\n",
              "      <th>1</th>\n",
              "      <td>100003</td>\n",
              "      <td>0</td>\n",
              "      <td>0</td>\n",
              "      <td>0</td>\n",
              "      <td>0</td>\n",
              "      <td>0</td>\n",
              "      <td>0</td>\n",
              "      <td>270000.0</td>\n",
              "      <td>1293502.5</td>\n",
              "      <td>35698.5</td>\n",
              "      <td>...</td>\n",
              "      <td>0</td>\n",
              "      <td>0</td>\n",
              "      <td>0</td>\n",
              "      <td>0</td>\n",
              "      <td>0.0</td>\n",
              "      <td>0.0</td>\n",
              "      <td>0.0</td>\n",
              "      <td>0.0</td>\n",
              "      <td>0.0</td>\n",
              "      <td>0.0</td>\n",
              "    </tr>\n",
              "    <tr>\n",
              "      <th>2</th>\n",
              "      <td>100004</td>\n",
              "      <td>0</td>\n",
              "      <td>1</td>\n",
              "      <td>1</td>\n",
              "      <td>1</td>\n",
              "      <td>1</td>\n",
              "      <td>0</td>\n",
              "      <td>67500.0</td>\n",
              "      <td>135000.0</td>\n",
              "      <td>6750.0</td>\n",
              "      <td>...</td>\n",
              "      <td>0</td>\n",
              "      <td>0</td>\n",
              "      <td>0</td>\n",
              "      <td>0</td>\n",
              "      <td>0.0</td>\n",
              "      <td>0.0</td>\n",
              "      <td>0.0</td>\n",
              "      <td>0.0</td>\n",
              "      <td>0.0</td>\n",
              "      <td>0.0</td>\n",
              "    </tr>\n",
              "    <tr>\n",
              "      <th>3</th>\n",
              "      <td>100006</td>\n",
              "      <td>0</td>\n",
              "      <td>0</td>\n",
              "      <td>0</td>\n",
              "      <td>0</td>\n",
              "      <td>1</td>\n",
              "      <td>0</td>\n",
              "      <td>135000.0</td>\n",
              "      <td>312682.5</td>\n",
              "      <td>29686.5</td>\n",
              "      <td>...</td>\n",
              "      <td>0</td>\n",
              "      <td>0</td>\n",
              "      <td>0</td>\n",
              "      <td>0</td>\n",
              "      <td>0.0</td>\n",
              "      <td>0.0</td>\n",
              "      <td>0.0</td>\n",
              "      <td>0.0</td>\n",
              "      <td>0.0</td>\n",
              "      <td>1.0</td>\n",
              "    </tr>\n",
              "    <tr>\n",
              "      <th>4</th>\n",
              "      <td>100007</td>\n",
              "      <td>0</td>\n",
              "      <td>0</td>\n",
              "      <td>1</td>\n",
              "      <td>0</td>\n",
              "      <td>1</td>\n",
              "      <td>0</td>\n",
              "      <td>121500.0</td>\n",
              "      <td>513000.0</td>\n",
              "      <td>21865.5</td>\n",
              "      <td>...</td>\n",
              "      <td>0</td>\n",
              "      <td>0</td>\n",
              "      <td>0</td>\n",
              "      <td>0</td>\n",
              "      <td>0.0</td>\n",
              "      <td>0.0</td>\n",
              "      <td>0.0</td>\n",
              "      <td>0.0</td>\n",
              "      <td>0.0</td>\n",
              "      <td>0.0</td>\n",
              "    </tr>\n",
              "  </tbody>\n",
              "</table>\n",
              "<p>5 rows × 73 columns</p>\n",
              "</div>\n",
              "      <button class=\"colab-df-convert\" onclick=\"convertToInteractive('df-3988a603-3a87-499b-833c-0359bcc642e1')\"\n",
              "              title=\"Convert this dataframe to an interactive table.\"\n",
              "              style=\"display:none;\">\n",
              "        \n",
              "  <svg xmlns=\"http://www.w3.org/2000/svg\" height=\"24px\"viewBox=\"0 0 24 24\"\n",
              "       width=\"24px\">\n",
              "    <path d=\"M0 0h24v24H0V0z\" fill=\"none\"/>\n",
              "    <path d=\"M18.56 5.44l.94 2.06.94-2.06 2.06-.94-2.06-.94-.94-2.06-.94 2.06-2.06.94zm-11 1L8.5 8.5l.94-2.06 2.06-.94-2.06-.94L8.5 2.5l-.94 2.06-2.06.94zm10 10l.94 2.06.94-2.06 2.06-.94-2.06-.94-.94-2.06-.94 2.06-2.06.94z\"/><path d=\"M17.41 7.96l-1.37-1.37c-.4-.4-.92-.59-1.43-.59-.52 0-1.04.2-1.43.59L10.3 9.45l-7.72 7.72c-.78.78-.78 2.05 0 2.83L4 21.41c.39.39.9.59 1.41.59.51 0 1.02-.2 1.41-.59l7.78-7.78 2.81-2.81c.8-.78.8-2.07 0-2.86zM5.41 20L4 18.59l7.72-7.72 1.47 1.35L5.41 20z\"/>\n",
              "  </svg>\n",
              "      </button>\n",
              "      \n",
              "  <style>\n",
              "    .colab-df-container {\n",
              "      display:flex;\n",
              "      flex-wrap:wrap;\n",
              "      gap: 12px;\n",
              "    }\n",
              "\n",
              "    .colab-df-convert {\n",
              "      background-color: #E8F0FE;\n",
              "      border: none;\n",
              "      border-radius: 50%;\n",
              "      cursor: pointer;\n",
              "      display: none;\n",
              "      fill: #1967D2;\n",
              "      height: 32px;\n",
              "      padding: 0 0 0 0;\n",
              "      width: 32px;\n",
              "    }\n",
              "\n",
              "    .colab-df-convert:hover {\n",
              "      background-color: #E2EBFA;\n",
              "      box-shadow: 0px 1px 2px rgba(60, 64, 67, 0.3), 0px 1px 3px 1px rgba(60, 64, 67, 0.15);\n",
              "      fill: #174EA6;\n",
              "    }\n",
              "\n",
              "    [theme=dark] .colab-df-convert {\n",
              "      background-color: #3B4455;\n",
              "      fill: #D2E3FC;\n",
              "    }\n",
              "\n",
              "    [theme=dark] .colab-df-convert:hover {\n",
              "      background-color: #434B5C;\n",
              "      box-shadow: 0px 1px 3px 1px rgba(0, 0, 0, 0.15);\n",
              "      filter: drop-shadow(0px 1px 2px rgba(0, 0, 0, 0.3));\n",
              "      fill: #FFFFFF;\n",
              "    }\n",
              "  </style>\n",
              "\n",
              "      <script>\n",
              "        const buttonEl =\n",
              "          document.querySelector('#df-3988a603-3a87-499b-833c-0359bcc642e1 button.colab-df-convert');\n",
              "        buttonEl.style.display =\n",
              "          google.colab.kernel.accessAllowed ? 'block' : 'none';\n",
              "\n",
              "        async function convertToInteractive(key) {\n",
              "          const element = document.querySelector('#df-3988a603-3a87-499b-833c-0359bcc642e1');\n",
              "          const dataTable =\n",
              "            await google.colab.kernel.invokeFunction('convertToInteractive',\n",
              "                                                     [key], {});\n",
              "          if (!dataTable) return;\n",
              "\n",
              "          const docLinkHtml = 'Like what you see? Visit the ' +\n",
              "            '<a target=\"_blank\" href=https://colab.research.google.com/notebooks/data_table.ipynb>data table notebook</a>'\n",
              "            + ' to learn more about interactive tables.';\n",
              "          element.innerHTML = '';\n",
              "          dataTable['output_type'] = 'display_data';\n",
              "          await google.colab.output.renderOutput(dataTable, element);\n",
              "          const docLink = document.createElement('div');\n",
              "          docLink.innerHTML = docLinkHtml;\n",
              "          element.appendChild(docLink);\n",
              "        }\n",
              "      </script>\n",
              "    </div>\n",
              "  </div>\n",
              "  "
            ]
          },
          "metadata": {},
          "execution_count": 20
        }
      ]
    },
    {
      "cell_type": "markdown",
      "source": [
        "Feature Selection"
      ],
      "metadata": {
        "id": "cheV3FP-yxmR"
      }
    },
    {
      "cell_type": "code",
      "source": [
        "application_train.drop(['SK_ID_CURR'], inplace=True, axis=1)"
      ],
      "metadata": {
        "id": "szkhxmw7y2BE"
      },
      "execution_count": null,
      "outputs": []
    },
    {
      "cell_type": "markdown",
      "source": [
        "convert nilai negatif menjadi positif"
      ],
      "metadata": {
        "id": "RD1d3quAzDV4"
      }
    },
    {
      "cell_type": "code",
      "source": [
        "application_train.iloc[:,16:20] = application_train.iloc[:,16:20].abs()\n",
        "application_train.iloc[:,45] = application_train.iloc[:,45].abs()"
      ],
      "metadata": {
        "id": "VJmIgvQhzGHo"
      },
      "execution_count": null,
      "outputs": []
    },
    {
      "cell_type": "markdown",
      "source": [
        "Feature selection(2)"
      ],
      "metadata": {
        "id": "186bwuNxzKg8"
      }
    },
    {
      "cell_type": "code",
      "source": [
        "x = application_train.drop(['TARGET'], axis=1)\n",
        "y = application_train['TARGET']\n",
        "\n",
        "bestfeatures = SelectKBest(score_func=chi2, k=10)\n",
        "fit = bestfeatures.fit(x,y)\n",
        "dfscores = pd.DataFrame(fit.scores_)\n",
        "dfcolumns = pd.DataFrame(x.columns)\n",
        "featureScores = pd.concat([dfcolumns, dfscores], axis = 1)\n",
        "featureScores.columns = ['Features', 'Score']\n",
        "print('Feature yang memiliki nilai score yang baik dengan target:\\n')\n",
        "featureScores.sort_values(by=['Score'], ascending=False)"
      ],
      "metadata": {
        "colab": {
          "base_uri": "https://localhost:8080/",
          "height": 458
        },
        "id": "f9A0wVPBzOf2",
        "outputId": "bf344731-6698-4c2f-f898-73904bf1d195"
      },
      "execution_count": null,
      "outputs": [
        {
          "output_type": "stream",
          "name": "stdout",
          "text": [
            "Feature yang memiliki nilai score yang baik dengan target:\n",
            "\n"
          ]
        },
        {
          "output_type": "execute_result",
          "data": {
            "text/plain": [
              "                      Features         Score\n",
              "16               DAYS_EMPLOYED  1.954124e+08\n",
              "8              AMT_GOODS_PRICE  1.223080e+08\n",
              "6                   AMT_CREDIT  7.669987e+07\n",
              "15                  DAYS_BIRTH  2.235391e+06\n",
              "5             AMT_INCOME_TOTAL  1.624102e+06\n",
              "..                         ...           ...\n",
              "48             FLAG_DOCUMENT_5  3.020010e-02\n",
              "63            FLAG_DOCUMENT_20  1.425955e-02\n",
              "65  AMT_REQ_CREDIT_BUREAU_HOUR  1.832008e-03\n",
              "22            FLAG_CONT_MOBILE  7.863447e-05\n",
              "19                  FLAG_MOBIL  2.855786e-07\n",
              "\n",
              "[71 rows x 2 columns]"
            ],
            "text/html": [
              "\n",
              "  <div id=\"df-01ffacf3-b5e9-4d31-ab0a-3c7e4924c123\">\n",
              "    <div class=\"colab-df-container\">\n",
              "      <div>\n",
              "<style scoped>\n",
              "    .dataframe tbody tr th:only-of-type {\n",
              "        vertical-align: middle;\n",
              "    }\n",
              "\n",
              "    .dataframe tbody tr th {\n",
              "        vertical-align: top;\n",
              "    }\n",
              "\n",
              "    .dataframe thead th {\n",
              "        text-align: right;\n",
              "    }\n",
              "</style>\n",
              "<table border=\"1\" class=\"dataframe\">\n",
              "  <thead>\n",
              "    <tr style=\"text-align: right;\">\n",
              "      <th></th>\n",
              "      <th>Features</th>\n",
              "      <th>Score</th>\n",
              "    </tr>\n",
              "  </thead>\n",
              "  <tbody>\n",
              "    <tr>\n",
              "      <th>16</th>\n",
              "      <td>DAYS_EMPLOYED</td>\n",
              "      <td>1.954124e+08</td>\n",
              "    </tr>\n",
              "    <tr>\n",
              "      <th>8</th>\n",
              "      <td>AMT_GOODS_PRICE</td>\n",
              "      <td>1.223080e+08</td>\n",
              "    </tr>\n",
              "    <tr>\n",
              "      <th>6</th>\n",
              "      <td>AMT_CREDIT</td>\n",
              "      <td>7.669987e+07</td>\n",
              "    </tr>\n",
              "    <tr>\n",
              "      <th>15</th>\n",
              "      <td>DAYS_BIRTH</td>\n",
              "      <td>2.235391e+06</td>\n",
              "    </tr>\n",
              "    <tr>\n",
              "      <th>5</th>\n",
              "      <td>AMT_INCOME_TOTAL</td>\n",
              "      <td>1.624102e+06</td>\n",
              "    </tr>\n",
              "    <tr>\n",
              "      <th>...</th>\n",
              "      <td>...</td>\n",
              "      <td>...</td>\n",
              "    </tr>\n",
              "    <tr>\n",
              "      <th>48</th>\n",
              "      <td>FLAG_DOCUMENT_5</td>\n",
              "      <td>3.020010e-02</td>\n",
              "    </tr>\n",
              "    <tr>\n",
              "      <th>63</th>\n",
              "      <td>FLAG_DOCUMENT_20</td>\n",
              "      <td>1.425955e-02</td>\n",
              "    </tr>\n",
              "    <tr>\n",
              "      <th>65</th>\n",
              "      <td>AMT_REQ_CREDIT_BUREAU_HOUR</td>\n",
              "      <td>1.832008e-03</td>\n",
              "    </tr>\n",
              "    <tr>\n",
              "      <th>22</th>\n",
              "      <td>FLAG_CONT_MOBILE</td>\n",
              "      <td>7.863447e-05</td>\n",
              "    </tr>\n",
              "    <tr>\n",
              "      <th>19</th>\n",
              "      <td>FLAG_MOBIL</td>\n",
              "      <td>2.855786e-07</td>\n",
              "    </tr>\n",
              "  </tbody>\n",
              "</table>\n",
              "<p>71 rows × 2 columns</p>\n",
              "</div>\n",
              "      <button class=\"colab-df-convert\" onclick=\"convertToInteractive('df-01ffacf3-b5e9-4d31-ab0a-3c7e4924c123')\"\n",
              "              title=\"Convert this dataframe to an interactive table.\"\n",
              "              style=\"display:none;\">\n",
              "        \n",
              "  <svg xmlns=\"http://www.w3.org/2000/svg\" height=\"24px\"viewBox=\"0 0 24 24\"\n",
              "       width=\"24px\">\n",
              "    <path d=\"M0 0h24v24H0V0z\" fill=\"none\"/>\n",
              "    <path d=\"M18.56 5.44l.94 2.06.94-2.06 2.06-.94-2.06-.94-.94-2.06-.94 2.06-2.06.94zm-11 1L8.5 8.5l.94-2.06 2.06-.94-2.06-.94L8.5 2.5l-.94 2.06-2.06.94zm10 10l.94 2.06.94-2.06 2.06-.94-2.06-.94-.94-2.06-.94 2.06-2.06.94z\"/><path d=\"M17.41 7.96l-1.37-1.37c-.4-.4-.92-.59-1.43-.59-.52 0-1.04.2-1.43.59L10.3 9.45l-7.72 7.72c-.78.78-.78 2.05 0 2.83L4 21.41c.39.39.9.59 1.41.59.51 0 1.02-.2 1.41-.59l7.78-7.78 2.81-2.81c.8-.78.8-2.07 0-2.86zM5.41 20L4 18.59l7.72-7.72 1.47 1.35L5.41 20z\"/>\n",
              "  </svg>\n",
              "      </button>\n",
              "      \n",
              "  <style>\n",
              "    .colab-df-container {\n",
              "      display:flex;\n",
              "      flex-wrap:wrap;\n",
              "      gap: 12px;\n",
              "    }\n",
              "\n",
              "    .colab-df-convert {\n",
              "      background-color: #E8F0FE;\n",
              "      border: none;\n",
              "      border-radius: 50%;\n",
              "      cursor: pointer;\n",
              "      display: none;\n",
              "      fill: #1967D2;\n",
              "      height: 32px;\n",
              "      padding: 0 0 0 0;\n",
              "      width: 32px;\n",
              "    }\n",
              "\n",
              "    .colab-df-convert:hover {\n",
              "      background-color: #E2EBFA;\n",
              "      box-shadow: 0px 1px 2px rgba(60, 64, 67, 0.3), 0px 1px 3px 1px rgba(60, 64, 67, 0.15);\n",
              "      fill: #174EA6;\n",
              "    }\n",
              "\n",
              "    [theme=dark] .colab-df-convert {\n",
              "      background-color: #3B4455;\n",
              "      fill: #D2E3FC;\n",
              "    }\n",
              "\n",
              "    [theme=dark] .colab-df-convert:hover {\n",
              "      background-color: #434B5C;\n",
              "      box-shadow: 0px 1px 3px 1px rgba(0, 0, 0, 0.15);\n",
              "      filter: drop-shadow(0px 1px 2px rgba(0, 0, 0, 0.3));\n",
              "      fill: #FFFFFF;\n",
              "    }\n",
              "  </style>\n",
              "\n",
              "      <script>\n",
              "        const buttonEl =\n",
              "          document.querySelector('#df-01ffacf3-b5e9-4d31-ab0a-3c7e4924c123 button.colab-df-convert');\n",
              "        buttonEl.style.display =\n",
              "          google.colab.kernel.accessAllowed ? 'block' : 'none';\n",
              "\n",
              "        async function convertToInteractive(key) {\n",
              "          const element = document.querySelector('#df-01ffacf3-b5e9-4d31-ab0a-3c7e4924c123');\n",
              "          const dataTable =\n",
              "            await google.colab.kernel.invokeFunction('convertToInteractive',\n",
              "                                                     [key], {});\n",
              "          if (!dataTable) return;\n",
              "\n",
              "          const docLinkHtml = 'Like what you see? Visit the ' +\n",
              "            '<a target=\"_blank\" href=https://colab.research.google.com/notebooks/data_table.ipynb>data table notebook</a>'\n",
              "            + ' to learn more about interactive tables.';\n",
              "          element.innerHTML = '';\n",
              "          dataTable['output_type'] = 'display_data';\n",
              "          await google.colab.output.renderOutput(dataTable, element);\n",
              "          const docLink = document.createElement('div');\n",
              "          docLink.innerHTML = docLinkHtml;\n",
              "          element.appendChild(docLink);\n",
              "        }\n",
              "      </script>\n",
              "    </div>\n",
              "  </div>\n",
              "  "
            ]
          },
          "metadata": {},
          "execution_count": 23
        }
      ]
    },
    {
      "cell_type": "markdown",
      "source": [
        "Mengatasi imbalance"
      ],
      "metadata": {
        "id": "VppwkmdEze8f"
      }
    },
    {
      "cell_type": "code",
      "source": [
        "# buat dua data frame kelas mayoritas dan minoritas yang berbeda\n",
        "df_majority = application_train[(application_train['TARGET']==0)] \n",
        "df_minority = application_train[(application_train['TARGET']==1)] \n",
        "\n",
        "# upsample kelas minoritas\n",
        "df_minority_upsampled = resample(df_minority, \n",
        "                                 replace=True,    \n",
        "                                 n_samples= 282686, \n",
        "                                 random_state=42)  \n",
        "\n",
        "# menggabungkan kelas mayoritas dengan kelas minoritas upsampled\n",
        "df_upsampled = pd.concat([df_minority_upsampled, df_majority])\n",
        "\n",
        "fig = plt.figure(figsize = (12,7))\n",
        "df_upsampled['TARGET'].value_counts(normalize=True).plot(kind='bar', color= ['navy','lightgrey'], alpha = 0.9, rot=0)\n",
        "plt.title('Distribusi Kemampuan Pembayaran Client\\n', fontsize=14)\n",
        "plt.ylabel('Percentage of the Customers\\n', fontsize=12)\n",
        "plt.xlabel('\\nPayment Difficulty Status', fontsize=12)\n",
        "plt.show()"
      ],
      "metadata": {
        "colab": {
          "base_uri": "https://localhost:8080/",
          "height": 494
        },
        "id": "w4zHOeQ8zhpH",
        "outputId": "d1d23a4b-8271-4fcb-dc91-30e4c038a16f"
      },
      "execution_count": null,
      "outputs": [
        {
          "output_type": "display_data",
          "data": {
            "text/plain": [
              "<Figure size 864x504 with 1 Axes>"
            ],
            "image/png": "[encoded data removed]"
          },
          "metadata": {
            "needs_background": "light"
          }
        }
      ]
    },
    {
      "cell_type": "markdown",
      "source": [
        "Split data"
      ],
      "metadata": {
        "id": "z8wX8eOB0Rfp"
      }
    },
    {
      "cell_type": "code",
      "source": [
        "x_balanced = df_upsampled[['DAYS_EMPLOYED', 'AMT_GOODS_PRICE', 'AMT_CREDIT', \n",
        "                           'DAYS_BIRTH', 'AMT_INCOME_TOTAL', 'DAYS_REGISTRATION', \n",
        "                           'DAYS_LAST_PHONE_CHANGE', 'DAYS_ID_PUBLISH', 'AMT_ANNUITY', \n",
        "                           'ORGANIZATION_TYPE', 'NAME_INCOME_TYPE', 'REG_CITY_NOT_WORK_CITY',\n",
        "                          'CODE_GENDER', 'EXT_SOURCE_2', 'REG_CITY_NOT_LIVE_CITY', 'NAME_EDUCATION_TYPE',\n",
        "                          'DEF_30_CNT_SOCIAL_CIRCLE', 'EXT_SOURCE_3', 'DEF_60_CNT_SOCIAL_CIRCLE', 'LIVE_CITY_NOT_WORK_CITY']]\n",
        "y_balanced = df_upsampled['TARGET']\n",
        "\n",
        "X_train, X_test, y_train, y_test = train_test_split(x_balanced, y_balanced, test_size=0.2, random_state=42)\n",
        "print(X_train.shape, X_test.shape)\n",
        "\n",
        "# normalize features\n",
        "scaler = StandardScaler()\n",
        "X_train = scaler.fit_transform(X_train)\n",
        "X_test = scaler.fit_transform(X_test)"
      ],
      "metadata": {
        "colab": {
          "base_uri": "https://localhost:8080/"
        },
        "id": "v3hOvKPJ0Wog",
        "outputId": "e6bdb8c0-54c3-4ffa-eef6-e39db96e8444"
      },
      "execution_count": null,
      "outputs": [
        {
          "output_type": "stream",
          "name": "stdout",
          "text": [
            "(452297, 20) (113075, 20)\n"
          ]
        }
      ]
    },
    {
      "cell_type": "markdown",
      "source": [
        "Membentuk model\n",
        "1. Regresi Logistik\n",
        "2. Decision Tree"
      ],
      "metadata": {
        "id": "-1NN6a4J0hz2"
      }
    },
    {
      "cell_type": "markdown",
      "source": [
        "Reglog"
      ],
      "metadata": {
        "id": "dpl_rhBr2Lsd"
      }
    },
    {
      "cell_type": "code",
      "source": [
        "# train model\n",
        "log_model = LogisticRegression().fit(X_train, y_train)\n",
        "print(log_model)\n",
        "\n",
        "# predict data train\n",
        "y_train_pred_log = log_model.predict(X_train)\n",
        "\n",
        "# hasil klasifikasi\n",
        "print(classification_report(y_train, y_train_pred_log))"
      ],
      "metadata": {
        "colab": {
          "base_uri": "https://localhost:8080/"
        },
        "id": "ICaek1KL0kB7",
        "outputId": "063610ba-4ed3-4d58-b3c8-e7b0a567bbfa"
      },
      "execution_count": null,
      "outputs": [
        {
          "output_type": "stream",
          "name": "stdout",
          "text": [
            "LogisticRegression()\n",
            "              precision    recall  f1-score   support\n",
            "\n",
            "           0       0.67      0.68      0.68    226185\n",
            "           1       0.68      0.66      0.67    226112\n",
            "\n",
            "    accuracy                           0.67    452297\n",
            "   macro avg       0.67      0.67      0.67    452297\n",
            "weighted avg       0.67      0.67      0.67    452297\n",
            "\n"
          ]
        }
      ]
    },
    {
      "cell_type": "code",
      "source": [
        "# confusion matrikx reglog\n",
        "confusion_matrix_log = pd.DataFrame((confusion_matrix(y_train, y_train_pred_log)), ('No Payment Difficulties', 'Payment Difficulties'), ('No Payment Difficulties', 'Payment Difficulties'))\n",
        "\n",
        "plt.figure()\n",
        "heatmap = sns.heatmap(confusion_matrix_log, annot=True, annot_kws={'size': 14}, fmt='d', cmap='bone_r')\n",
        "heatmap.yaxis.set_ticklabels(heatmap.yaxis.get_ticklabels(), rotation=0, ha='right', fontsize=14)\n",
        "heatmap.xaxis.set_ticklabels(heatmap.xaxis.get_ticklabels(), rotation=0, ha='right', fontsize=14)\n",
        "\n",
        "plt.title('Confusion Matrix for Training Model\\n(Logistic Regression)\\n', fontsize=18, color='black')\n",
        "plt.ylabel('True label', fontsize=14)\n",
        "plt.xlabel('Predicted label', fontsize=14)\n",
        "plt.show()"
      ],
      "metadata": {
        "colab": {
          "base_uri": "https://localhost:8080/",
          "height": 349
        },
        "id": "AK3YYf-00_-j",
        "outputId": "393c2ec7-926b-4c8f-a870-485874364f86"
      },
      "execution_count": null,
      "outputs": [
        {
          "output_type": "display_data",
          "data": {
            "text/plain": [
              "<Figure size 432x288 with 2 Axes>"
            ],
            "image/png": "[encoded data removed]"
          },
          "metadata": {
            "needs_background": "light"
          }
        }
      ]
    },
    {
      "cell_type": "code",
      "source": [
        "# predict data test\n",
        "y_test_pred_log = log_model.predict(X_test)\n",
        "\n",
        "# print classification report\n",
        "print('Classification Report Testing Model (Logistic Regression):')\n",
        "print(classification_report(y_test, y_test_pred_log))\n",
        "\n"
      ],
      "metadata": {
        "colab": {
          "base_uri": "https://localhost:8080/"
        },
        "id": "WBDaPDCW1qCS",
        "outputId": "e632b7c4-3a42-4a47-c214-805f8ed2aea4"
      },
      "execution_count": null,
      "outputs": [
        {
          "output_type": "stream",
          "name": "stdout",
          "text": [
            "Classification Report Testing Model (Logistic Regression):\n",
            "              precision    recall  f1-score   support\n",
            "\n",
            "           0       0.67      0.68      0.68     56501\n",
            "           1       0.68      0.66      0.67     56574\n",
            "\n",
            "    accuracy                           0.67    113075\n",
            "   macro avg       0.67      0.67      0.67    113075\n",
            "weighted avg       0.67      0.67      0.67    113075\n",
            "\n"
          ]
        }
      ]
    },
    {
      "cell_type": "code",
      "source": [
        "# form confusion matrix as a dataFrame\n",
        "confusion_matrix_log = pd.DataFrame((confusion_matrix(y_test, y_test_pred_log)), ('No Payment Difficulties', 'Payment Difficulties'), ('No Payment Difficulties', 'Payment Difficulties'))\n",
        "\n",
        "# plot confusion matrix\n",
        "plt.figure()\n",
        "heatmap = sns.heatmap(confusion_matrix_log, annot=True, annot_kws={'size': 14}, fmt='d')\n",
        "heatmap.yaxis.set_ticklabels(heatmap.yaxis.get_ticklabels(), rotation=0, ha='right', fontsize=14)\n",
        "heatmap.xaxis.set_ticklabels(heatmap.xaxis.get_ticklabels(), rotation=0, ha='right', fontsize=14)\n",
        "\n",
        "plt.title('Confusion Matrix for Testing Model\\n(Logistic Regression)\\n', fontsize=18, color='black')\n",
        "plt.ylabel('True label', fontsize=14)\n",
        "plt.xlabel('Predicted label', fontsize=14)\n",
        "plt.show()"
      ],
      "metadata": {
        "colab": {
          "base_uri": "https://localhost:8080/",
          "height": 349
        },
        "id": "Hh0bKxRz10eU",
        "outputId": "67102c87-6db7-4a65-a728-94674a55d5ba"
      },
      "execution_count": null,
      "outputs": [
        {
          "output_type": "display_data",
          "data": {
            "text/plain": [
              "<Figure size 432x288 with 2 Axes>"
            ],
            "image/png": "[encoded data removed]"
          },
          "metadata": {
            "needs_background": "light"
          }
        }
      ]
    },
    {
      "cell_type": "code",
      "source": [
        "acc_log_train=round(log_model.score(X_train,y_train)*100,2)\n",
        "acc_log_test=round(log_model.score(X_test,y_test)*100,2)\n",
        "print(\"Training Accuracy: % {}\".format(acc_log_train))\n",
        "print(\"Test Accuracy: % {}\".format(acc_log_test))"
      ],
      "metadata": {
        "colab": {
          "base_uri": "https://localhost:8080/"
        },
        "id": "FJydS88I1-xA",
        "outputId": "6342d9df-1c21-4be0-cbff-30a8a54e8311"
      },
      "execution_count": null,
      "outputs": [
        {
          "output_type": "stream",
          "name": "stdout",
          "text": [
            "Training Accuracy: % 67.16\n",
            "Test Accuracy: % 67.29\n"
          ]
        }
      ]
    },
    {
      "cell_type": "code",
      "source": [
        "# ROC scores\n",
        "roc_auc_log = round(roc_auc_score(y_test, y_test_pred_log),4)\n",
        "print('ROC AUC:', roc_auc_log)"
      ],
      "metadata": {
        "colab": {
          "base_uri": "https://localhost:8080/"
        },
        "id": "vvGewtRu2AD8",
        "outputId": "9a37d2a8-eb3e-49fa-9526-921a03c903c5"
      },
      "execution_count": null,
      "outputs": [
        {
          "output_type": "stream",
          "name": "stdout",
          "text": [
            "ROC AUC: 0.6729\n"
          ]
        }
      ]
    },
    {
      "cell_type": "markdown",
      "source": [
        "DT"
      ],
      "metadata": {
        "id": "SNRvjHXt2QYh"
      }
    },
    {
      "cell_type": "code",
      "source": [
        "# train the model\n",
        "dt_model = DecisionTreeClassifier().fit(X_train,y_train)\n",
        "print(dt_model)\n",
        "\n"
      ],
      "metadata": {
        "colab": {
          "base_uri": "https://localhost:8080/"
        },
        "id": "684unC162RIC",
        "outputId": "c205098f-6145-4272-d176-b59f41c4c5bc"
      },
      "execution_count": null,
      "outputs": [
        {
          "output_type": "stream",
          "name": "stdout",
          "text": [
            "DecisionTreeClassifier()\n"
          ]
        }
      ]
    },
    {
      "cell_type": "code",
      "source": [
        "# predict data test\n",
        "y_test_pred_dt = dt_model.predict(X_test)"
      ],
      "metadata": {
        "id": "q68nfZd82Z0I"
      },
      "execution_count": null,
      "outputs": []
    },
    {
      "cell_type": "code",
      "source": [
        "# form confusion matrix as a dataFrame\n",
        "confusion_matrix_dt = pd.DataFrame((confusion_matrix(y_test, y_test_pred_dt)), ('No Payment Difficulties', 'Payment Difficulties'), ('No Payment Difficulties', 'Payment Difficulties'))\n",
        "\n",
        "# plot confusion matrix\n",
        "plt.figure()\n",
        "heatmap = sns.heatmap(confusion_matrix_dt, annot=True, annot_kws={'size': 14}, fmt='d')\n",
        "heatmap.yaxis.set_ticklabels(heatmap.yaxis.get_ticklabels(), rotation=0, ha='right', fontsize=14)\n",
        "heatmap.xaxis.set_ticklabels(heatmap.xaxis.get_ticklabels(), rotation=0, ha='right', fontsize=14)\n",
        "\n",
        "plt.title('Confusion Matrix for Testing Model\\n(Decision Tree Classifier)\\n', fontsize=18, color='black')\n",
        "plt.ylabel('True label', fontsize=14)\n",
        "plt.xlabel('Predicted label', fontsize=14)\n",
        "plt.show()"
      ],
      "metadata": {
        "colab": {
          "base_uri": "https://localhost:8080/",
          "height": 349
        },
        "id": "84MHkPi42akp",
        "outputId": "c113006e-9d42-44aa-b0cb-c9d38e7cf356"
      },
      "execution_count": null,
      "outputs": [
        {
          "output_type": "display_data",
          "data": {
            "text/plain": [
              "<Figure size 432x288 with 2 Axes>"
            ],
            "image/png": "[encoded data removed]"
          },
          "metadata": {
            "needs_background": "light"
          }
        }
      ]
    },
    {
      "cell_type": "code",
      "source": [
        "acc_dt_train=round(dt_model.score(X_train,y_train)*100,2)\n",
        "acc_dt_test=round(dt_model.score(X_test,y_test)*100,2)\n",
        "print(\"Training Accuracy: % {}\".format(acc_dt_train))\n",
        "print(\"Test Accuracy: % {}\".format(acc_dt_test))"
      ],
      "metadata": {
        "colab": {
          "base_uri": "https://localhost:8080/"
        },
        "id": "k7Le4Ri12iqL",
        "outputId": "3d87a9c1-751f-47d6-9d7d-9b881b9b7663"
      },
      "execution_count": null,
      "outputs": [
        {
          "output_type": "stream",
          "name": "stdout",
          "text": [
            "Training Accuracy: % 100.0\n",
            "Test Accuracy: % 88.24\n"
          ]
        }
      ]
    },
    {
      "cell_type": "code",
      "source": [
        "# ROC scores\n",
        "roc_auc_dt = round(roc_auc_score(y_test, y_test_pred_dt),4)\n",
        "print('ROC AUC:', roc_auc_dt)"
      ],
      "metadata": {
        "colab": {
          "base_uri": "https://localhost:8080/"
        },
        "id": "E25kjTww2jLP",
        "outputId": "c0d2b09f-b53a-4cd7-fc39-c21453d27fef"
      },
      "execution_count": null,
      "outputs": [
        {
          "output_type": "stream",
          "name": "stdout",
          "text": [
            "ROC AUC: 0.8824\n"
          ]
        }
      ]
    },
    {
      "cell_type": "markdown",
      "source": [],
      "metadata": {
        "id": "0_5hLLmz3qFK"
      }
    }
  ]
}